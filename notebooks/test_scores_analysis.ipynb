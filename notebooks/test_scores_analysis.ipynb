{
 "cells": [
  {
   "cell_type": "code",
   "execution_count": 1,
   "id": "7e4d291e",
   "metadata": {},
   "outputs": [],
   "source": [
    "import numpy as np\n",
    "import pandas as pd\n",
    "import matplotlib.pyplot as plt\n",
    "import seaborn as sns"
   ]
  },
  {
   "cell_type": "code",
   "execution_count": 2,
   "id": "0ba16891",
   "metadata": {},
   "outputs": [],
   "source": [
    "df = pd.read_csv('../datasets/test_scores.csv')"
   ]
  },
  {
   "cell_type": "code",
   "execution_count": 3,
   "id": "3c35a5b8",
   "metadata": {},
   "outputs": [
    {
     "data": {
      "text/html": [
       "<div>\n",
       "<style scoped>\n",
       "    .dataframe tbody tr th:only-of-type {\n",
       "        vertical-align: middle;\n",
       "    }\n",
       "\n",
       "    .dataframe tbody tr th {\n",
       "        vertical-align: top;\n",
       "    }\n",
       "\n",
       "    .dataframe thead th {\n",
       "        text-align: right;\n",
       "    }\n",
       "</style>\n",
       "<table border=\"1\" class=\"dataframe\">\n",
       "  <thead>\n",
       "    <tr style=\"text-align: right;\">\n",
       "      <th></th>\n",
       "      <th>school</th>\n",
       "      <th>school_setting</th>\n",
       "      <th>school_type</th>\n",
       "      <th>classroom</th>\n",
       "      <th>teaching_method</th>\n",
       "      <th>n_student</th>\n",
       "      <th>student_id</th>\n",
       "      <th>gender</th>\n",
       "      <th>lunch</th>\n",
       "      <th>pretest</th>\n",
       "      <th>posttest</th>\n",
       "    </tr>\n",
       "  </thead>\n",
       "  <tbody>\n",
       "    <tr>\n",
       "      <th>0</th>\n",
       "      <td>ANKYI</td>\n",
       "      <td>Urban</td>\n",
       "      <td>Non-public</td>\n",
       "      <td>6OL</td>\n",
       "      <td>Standard</td>\n",
       "      <td>20.0</td>\n",
       "      <td>2FHT3</td>\n",
       "      <td>Female</td>\n",
       "      <td>Does not qualify</td>\n",
       "      <td>62.0</td>\n",
       "      <td>72.0</td>\n",
       "    </tr>\n",
       "    <tr>\n",
       "      <th>1</th>\n",
       "      <td>ANKYI</td>\n",
       "      <td>Urban</td>\n",
       "      <td>Non-public</td>\n",
       "      <td>6OL</td>\n",
       "      <td>Standard</td>\n",
       "      <td>20.0</td>\n",
       "      <td>3JIVH</td>\n",
       "      <td>Female</td>\n",
       "      <td>Does not qualify</td>\n",
       "      <td>66.0</td>\n",
       "      <td>79.0</td>\n",
       "    </tr>\n",
       "    <tr>\n",
       "      <th>2</th>\n",
       "      <td>ANKYI</td>\n",
       "      <td>Urban</td>\n",
       "      <td>Non-public</td>\n",
       "      <td>6OL</td>\n",
       "      <td>Standard</td>\n",
       "      <td>20.0</td>\n",
       "      <td>3XOWE</td>\n",
       "      <td>Male</td>\n",
       "      <td>Does not qualify</td>\n",
       "      <td>64.0</td>\n",
       "      <td>76.0</td>\n",
       "    </tr>\n",
       "    <tr>\n",
       "      <th>3</th>\n",
       "      <td>ANKYI</td>\n",
       "      <td>Urban</td>\n",
       "      <td>Non-public</td>\n",
       "      <td>6OL</td>\n",
       "      <td>Standard</td>\n",
       "      <td>20.0</td>\n",
       "      <td>556O0</td>\n",
       "      <td>Female</td>\n",
       "      <td>Does not qualify</td>\n",
       "      <td>61.0</td>\n",
       "      <td>77.0</td>\n",
       "    </tr>\n",
       "    <tr>\n",
       "      <th>4</th>\n",
       "      <td>ANKYI</td>\n",
       "      <td>Urban</td>\n",
       "      <td>Non-public</td>\n",
       "      <td>6OL</td>\n",
       "      <td>Standard</td>\n",
       "      <td>20.0</td>\n",
       "      <td>74LOE</td>\n",
       "      <td>Male</td>\n",
       "      <td>Does not qualify</td>\n",
       "      <td>64.0</td>\n",
       "      <td>76.0</td>\n",
       "    </tr>\n",
       "  </tbody>\n",
       "</table>\n",
       "</div>"
      ],
      "text/plain": [
       "  school school_setting school_type classroom teaching_method  n_student  \\\n",
       "0  ANKYI          Urban  Non-public       6OL        Standard       20.0   \n",
       "1  ANKYI          Urban  Non-public       6OL        Standard       20.0   \n",
       "2  ANKYI          Urban  Non-public       6OL        Standard       20.0   \n",
       "3  ANKYI          Urban  Non-public       6OL        Standard       20.0   \n",
       "4  ANKYI          Urban  Non-public       6OL        Standard       20.0   \n",
       "\n",
       "  student_id  gender             lunch  pretest  posttest  \n",
       "0      2FHT3  Female  Does not qualify     62.0      72.0  \n",
       "1      3JIVH  Female  Does not qualify     66.0      79.0  \n",
       "2      3XOWE    Male  Does not qualify     64.0      76.0  \n",
       "3      556O0  Female  Does not qualify     61.0      77.0  \n",
       "4      74LOE    Male  Does not qualify     64.0      76.0  "
      ]
     },
     "execution_count": 3,
     "metadata": {},
     "output_type": "execute_result"
    }
   ],
   "source": [
    "df.head()"
   ]
  },
  {
   "cell_type": "code",
   "execution_count": 4,
   "id": "f75d0843",
   "metadata": {},
   "outputs": [
    {
     "name": "stdout",
     "output_type": "stream",
     "text": [
      "<class 'pandas.core.frame.DataFrame'>\n",
      "RangeIndex: 2133 entries, 0 to 2132\n",
      "Data columns (total 11 columns):\n",
      " #   Column           Non-Null Count  Dtype  \n",
      "---  ------           --------------  -----  \n",
      " 0   school           2133 non-null   object \n",
      " 1   school_setting   2133 non-null   object \n",
      " 2   school_type      2133 non-null   object \n",
      " 3   classroom        2133 non-null   object \n",
      " 4   teaching_method  2133 non-null   object \n",
      " 5   n_student        2133 non-null   float64\n",
      " 6   student_id       2133 non-null   object \n",
      " 7   gender           2133 non-null   object \n",
      " 8   lunch            2133 non-null   object \n",
      " 9   pretest          2133 non-null   float64\n",
      " 10  posttest         2133 non-null   float64\n",
      "dtypes: float64(3), object(8)\n",
      "memory usage: 183.4+ KB\n"
     ]
    }
   ],
   "source": [
    "df.info()"
   ]
  },
  {
   "cell_type": "markdown",
   "id": "df152684",
   "metadata": {},
   "source": [
    "## 1. Exploratory Data Analysis"
   ]
  },
  {
   "cell_type": "code",
   "execution_count": 5,
   "id": "76dd1cf9",
   "metadata": {},
   "outputs": [
    {
     "data": {
      "image/png": "[encoded data removed]",
      "text/plain": [
       "<Figure size 432x288 with 1 Axes>"
      ]
     },
     "metadata": {
      "needs_background": "light"
     },
     "output_type": "display_data"
    }
   ],
   "source": [
    "sns.histplot(data=df, x='posttest');"
   ]
  },
  {
   "cell_type": "markdown",
   "id": "efb2eaf0",
   "metadata": {},
   "source": [
    "### Pretest scores"
   ]
  },
  {
   "cell_type": "code",
   "execution_count": 6,
   "id": "d139eb98",
   "metadata": {},
   "outputs": [
    {
     "data": {
      "image/png": "[encoded data removed]",
      "text/plain": [
       "<Figure size 432x288 with 1 Axes>"
      ]
     },
     "metadata": {
      "needs_background": "light"
     },
     "output_type": "display_data"
    }
   ],
   "source": [
    "sns.histplot(data=df, x='pretest');"
   ]
  },
  {
   "cell_type": "code",
   "execution_count": 8,
   "id": "dee4b637",
   "metadata": {},
   "outputs": [
    {
     "data": {
      "image/png": "[encoded data removed]",
      "text/plain": [
       "<Figure size 576x432 with 1 Axes>"
      ]
     },
     "metadata": {
      "needs_background": "light"
     },
     "output_type": "display_data"
    }
   ],
   "source": [
    "plt.figure(figsize=(8,6))\n",
    "\n",
    "sns.scatterplot(data=df, x='pretest', y='posttest');"
   ]
  },
  {
   "cell_type": "markdown",
   "id": "63fa10cc",
   "metadata": {},
   "source": [
    "### School setting"
   ]
  },
  {
   "cell_type": "code",
   "execution_count": 40,
   "id": "8f2fe25e",
   "metadata": {},
   "outputs": [
    {
     "data": {
      "text/plain": [
       "'Urban'"
      ]
     },
     "execution_count": 40,
     "metadata": {},
     "output_type": "execute_result"
    }
   ],
   "source": [
    "df['school_setting'].mode()[0]"
   ]
  },
  {
   "cell_type": "code",
   "execution_count": 16,
   "id": "ad2984c7",
   "metadata": {},
   "outputs": [
    {
     "data": {
      "image/png": "[encoded data removed]",
      "text/plain": [
       "<Figure size 432x288 with 1 Axes>"
      ]
     },
     "metadata": {
      "needs_background": "light"
     },
     "output_type": "display_data"
    }
   ],
   "source": [
    "sns.countplot(data=df, x='school_setting', palette='Set2');"
   ]
  },
  {
   "cell_type": "code",
   "execution_count": 17,
   "id": "c3f9f576",
   "metadata": {},
   "outputs": [
    {
     "data": {
      "image/png": "[encoded data removed]",
      "text/plain": [
       "<Figure size 576x432 with 1 Axes>"
      ]
     },
     "metadata": {
      "needs_background": "light"
     },
     "output_type": "display_data"
    }
   ],
   "source": [
    "plt.figure(figsize=(8,6))\n",
    "\n",
    "sns.boxplot(data=df, x='school_setting', y='posttest', palette='Set2');"
   ]
  },
  {
   "cell_type": "code",
   "execution_count": 18,
   "id": "ff7b4e57",
   "metadata": {},
   "outputs": [
    {
     "data": {
      "image/png": "[encoded data removed]",
      "text/plain": [
       "<Figure size 576x432 with 1 Axes>"
      ]
     },
     "metadata": {
      "needs_background": "light"
     },
     "output_type": "display_data"
    }
   ],
   "source": [
    "plt.figure(figsize=(8,6))\n",
    "\n",
    "sns.scatterplot(data=df, x='pretest', y='posttest', hue='school_setting', \n",
    "                alpha=0.5, palette='Set2');"
   ]
  },
  {
   "cell_type": "markdown",
   "id": "00c7b462",
   "metadata": {},
   "source": [
    "### School type"
   ]
  },
  {
   "cell_type": "code",
   "execution_count": 15,
   "id": "bfaf2de7",
   "metadata": {},
   "outputs": [
    {
     "data": {
      "image/png": "[encoded data removed]",
      "text/plain": [
       "<Figure size 432x288 with 1 Axes>"
      ]
     },
     "metadata": {
      "needs_background": "light"
     },
     "output_type": "display_data"
    }
   ],
   "source": [
    "sns.countplot(data=df, x='school_type', palette='Paired');"
   ]
  },
  {
   "cell_type": "code",
   "execution_count": 20,
   "id": "634dc99e",
   "metadata": {},
   "outputs": [
    {
     "data": {
      "image/png": "[encoded data removed]",
      "text/plain": [
       "<Figure size 432x288 with 1 Axes>"
      ]
     },
     "metadata": {
      "needs_background": "light"
     },
     "output_type": "display_data"
    }
   ],
   "source": [
    "sns.boxplot(data=df, x='school_type', y='posttest', palette='Paired');"
   ]
  },
  {
   "cell_type": "code",
   "execution_count": 23,
   "id": "d1dc377d",
   "metadata": {},
   "outputs": [
    {
     "data": {
      "image/png": "[encoded data removed]",
      "text/plain": [
       "<Figure size 864x432 with 1 Axes>"
      ]
     },
     "metadata": {
      "needs_background": "light"
     },
     "output_type": "display_data"
    }
   ],
   "source": [
    "plt.figure(figsize=(12,6))\n",
    "\n",
    "sns.boxplot(data=df, x='school_setting', y='posttest', \n",
    "            hue='school_type', palette='Paired');"
   ]
  },
  {
   "cell_type": "markdown",
   "id": "f80c2edc",
   "metadata": {},
   "source": [
    "### Teaching method"
   ]
  },
  {
   "cell_type": "code",
   "execution_count": 24,
   "id": "352475f3",
   "metadata": {},
   "outputs": [
    {
     "data": {
      "image/png": "[encoded data removed]",
      "text/plain": [
       "<Figure size 432x288 with 1 Axes>"
      ]
     },
     "metadata": {
      "needs_background": "light"
     },
     "output_type": "display_data"
    }
   ],
   "source": [
    "sns.countplot(data=df, x='teaching_method');"
   ]
  },
  {
   "cell_type": "code",
   "execution_count": 25,
   "id": "9cfe4297",
   "metadata": {},
   "outputs": [
    {
     "data": {
      "image/png": "[encoded data removed]",
      "text/plain": [
       "<Figure size 432x288 with 1 Axes>"
      ]
     },
     "metadata": {
      "needs_background": "light"
     },
     "output_type": "display_data"
    }
   ],
   "source": [
    "sns.boxplot(data=df, x='teaching_method', y='posttest');"
   ]
  },
  {
   "cell_type": "code",
   "execution_count": 27,
   "id": "4b80dff3",
   "metadata": {
    "scrolled": true
   },
   "outputs": [
    {
     "data": {
      "image/png": "[encoded data removed]",
      "text/plain": [
       "<Figure size 864x432 with 1 Axes>"
      ]
     },
     "metadata": {
      "needs_background": "light"
     },
     "output_type": "display_data"
    }
   ],
   "source": [
    "plt.figure(figsize=(12,6))\n",
    "\n",
    "sns.boxplot(data=df, x='school_setting', y='posttest', hue='teaching_method');"
   ]
  },
  {
   "cell_type": "code",
   "execution_count": 28,
   "id": "e2be4e6c",
   "metadata": {},
   "outputs": [
    {
     "data": {
      "image/png": "[encoded data removed]",
      "text/plain": [
       "<Figure size 864x432 with 1 Axes>"
      ]
     },
     "metadata": {
      "needs_background": "light"
     },
     "output_type": "display_data"
    }
   ],
   "source": [
    "plt.figure(figsize=(12,6))\n",
    "\n",
    "sns.boxplot(data=df, x='school_type', y='posttest', hue='teaching_method');"
   ]
  },
  {
   "cell_type": "markdown",
   "id": "436eed89",
   "metadata": {},
   "source": [
    "### Gender"
   ]
  },
  {
   "cell_type": "code",
   "execution_count": 33,
   "id": "41ff1a1a",
   "metadata": {},
   "outputs": [
    {
     "data": {
      "image/png": "[encoded data removed]",
      "text/plain": [
       "<Figure size 432x288 with 1 Axes>"
      ]
     },
     "metadata": {
      "needs_background": "light"
     },
     "output_type": "display_data"
    }
   ],
   "source": [
    "sns.countplot(data=df, x='gender', palette='Set1');"
   ]
  },
  {
   "cell_type": "code",
   "execution_count": 34,
   "id": "e696e69b",
   "metadata": {},
   "outputs": [
    {
     "data": {
      "image/png": "[encoded data removed]",
      "text/plain": [
       "<Figure size 432x288 with 1 Axes>"
      ]
     },
     "metadata": {
      "needs_background": "light"
     },
     "output_type": "display_data"
    }
   ],
   "source": [
    "sns.boxplot(data=df, x='gender', y='posttest', palette='Set1');"
   ]
  },
  {
   "cell_type": "markdown",
   "id": "7273b166",
   "metadata": {},
   "source": [
    "### Lunch"
   ]
  },
  {
   "cell_type": "code",
   "execution_count": 35,
   "id": "b3d2a00e",
   "metadata": {},
   "outputs": [
    {
     "data": {
      "image/png": "[encoded data removed]",
      "text/plain": [
       "<Figure size 432x288 with 1 Axes>"
      ]
     },
     "metadata": {
      "needs_background": "light"
     },
     "output_type": "display_data"
    }
   ],
   "source": [
    "sns.countplot(data=df, x='lunch');"
   ]
  },
  {
   "cell_type": "code",
   "execution_count": 36,
   "id": "45a26e76",
   "metadata": {
    "scrolled": true
   },
   "outputs": [
    {
     "data": {
      "image/png": "[encoded data removed]",
      "text/plain": [
       "<Figure size 432x288 with 1 Axes>"
      ]
     },
     "metadata": {
      "needs_background": "light"
     },
     "output_type": "display_data"
    }
   ],
   "source": [
    "sns.boxplot(data=df, x='lunch', y='posttest');"
   ]
  },
  {
   "cell_type": "code",
   "execution_count": 37,
   "id": "1ac17c13",
   "metadata": {},
   "outputs": [
    {
     "data": {
      "image/png": "[encoded data removed]",
      "text/plain": [
       "<Figure size 864x432 with 1 Axes>"
      ]
     },
     "metadata": {
      "needs_background": "light"
     },
     "output_type": "display_data"
    }
   ],
   "source": [
    "plt.figure(figsize=(12,6))\n",
    "\n",
    "sns.boxplot(data=df, x='school_setting', y='posttest', hue='lunch');"
   ]
  },
  {
   "cell_type": "code",
   "execution_count": 38,
   "id": "37de1d7d",
   "metadata": {},
   "outputs": [
    {
     "data": {
      "image/png": "[encoded data removed]",
      "text/plain": [
       "<Figure size 864x432 with 1 Axes>"
      ]
     },
     "metadata": {
      "needs_background": "light"
     },
     "output_type": "display_data"
    }
   ],
   "source": [
    "plt.figure(figsize=(12,6))\n",
    "\n",
    "sns.boxplot(data=df, x='school_type', y='posttest', hue='lunch');"
   ]
  },
  {
   "cell_type": "markdown",
   "id": "4c432432",
   "metadata": {},
   "source": [
    "### Exploration by school"
   ]
  },
  {
   "cell_type": "code",
   "execution_count": 41,
   "id": "4d98c7ea",
   "metadata": {},
   "outputs": [
    {
     "data": {
      "text/html": [
       "<div>\n",
       "<style scoped>\n",
       "    .dataframe tbody tr th:only-of-type {\n",
       "        vertical-align: middle;\n",
       "    }\n",
       "\n",
       "    .dataframe tbody tr th {\n",
       "        vertical-align: top;\n",
       "    }\n",
       "\n",
       "    .dataframe thead th {\n",
       "        text-align: right;\n",
       "    }\n",
       "</style>\n",
       "<table border=\"1\" class=\"dataframe\">\n",
       "  <thead>\n",
       "    <tr style=\"text-align: right;\">\n",
       "      <th></th>\n",
       "      <th>school</th>\n",
       "      <th>school_setting</th>\n",
       "      <th>school_type</th>\n",
       "      <th>classroom</th>\n",
       "      <th>teaching_method</th>\n",
       "      <th>n_student</th>\n",
       "      <th>student_id</th>\n",
       "      <th>gender</th>\n",
       "      <th>lunch</th>\n",
       "      <th>pretest</th>\n",
       "      <th>posttest</th>\n",
       "    </tr>\n",
       "  </thead>\n",
       "  <tbody>\n",
       "    <tr>\n",
       "      <th>0</th>\n",
       "      <td>ANKYI</td>\n",
       "      <td>Urban</td>\n",
       "      <td>Non-public</td>\n",
       "      <td>6OL</td>\n",
       "      <td>Standard</td>\n",
       "      <td>20.0</td>\n",
       "      <td>2FHT3</td>\n",
       "      <td>Female</td>\n",
       "      <td>Does not qualify</td>\n",
       "      <td>62.0</td>\n",
       "      <td>72.0</td>\n",
       "    </tr>\n",
       "    <tr>\n",
       "      <th>1</th>\n",
       "      <td>ANKYI</td>\n",
       "      <td>Urban</td>\n",
       "      <td>Non-public</td>\n",
       "      <td>6OL</td>\n",
       "      <td>Standard</td>\n",
       "      <td>20.0</td>\n",
       "      <td>3JIVH</td>\n",
       "      <td>Female</td>\n",
       "      <td>Does not qualify</td>\n",
       "      <td>66.0</td>\n",
       "      <td>79.0</td>\n",
       "    </tr>\n",
       "    <tr>\n",
       "      <th>2</th>\n",
       "      <td>ANKYI</td>\n",
       "      <td>Urban</td>\n",
       "      <td>Non-public</td>\n",
       "      <td>6OL</td>\n",
       "      <td>Standard</td>\n",
       "      <td>20.0</td>\n",
       "      <td>3XOWE</td>\n",
       "      <td>Male</td>\n",
       "      <td>Does not qualify</td>\n",
       "      <td>64.0</td>\n",
       "      <td>76.0</td>\n",
       "    </tr>\n",
       "    <tr>\n",
       "      <th>3</th>\n",
       "      <td>ANKYI</td>\n",
       "      <td>Urban</td>\n",
       "      <td>Non-public</td>\n",
       "      <td>6OL</td>\n",
       "      <td>Standard</td>\n",
       "      <td>20.0</td>\n",
       "      <td>556O0</td>\n",
       "      <td>Female</td>\n",
       "      <td>Does not qualify</td>\n",
       "      <td>61.0</td>\n",
       "      <td>77.0</td>\n",
       "    </tr>\n",
       "    <tr>\n",
       "      <th>4</th>\n",
       "      <td>ANKYI</td>\n",
       "      <td>Urban</td>\n",
       "      <td>Non-public</td>\n",
       "      <td>6OL</td>\n",
       "      <td>Standard</td>\n",
       "      <td>20.0</td>\n",
       "      <td>74LOE</td>\n",
       "      <td>Male</td>\n",
       "      <td>Does not qualify</td>\n",
       "      <td>64.0</td>\n",
       "      <td>76.0</td>\n",
       "    </tr>\n",
       "    <tr>\n",
       "      <th>...</th>\n",
       "      <td>...</td>\n",
       "      <td>...</td>\n",
       "      <td>...</td>\n",
       "      <td>...</td>\n",
       "      <td>...</td>\n",
       "      <td>...</td>\n",
       "      <td>...</td>\n",
       "      <td>...</td>\n",
       "      <td>...</td>\n",
       "      <td>...</td>\n",
       "      <td>...</td>\n",
       "    </tr>\n",
       "    <tr>\n",
       "      <th>2128</th>\n",
       "      <td>ZOWMK</td>\n",
       "      <td>Urban</td>\n",
       "      <td>Public</td>\n",
       "      <td>ZBH</td>\n",
       "      <td>Standard</td>\n",
       "      <td>30.0</td>\n",
       "      <td>T8LSK</td>\n",
       "      <td>Female</td>\n",
       "      <td>Does not qualify</td>\n",
       "      <td>39.0</td>\n",
       "      <td>55.0</td>\n",
       "    </tr>\n",
       "    <tr>\n",
       "      <th>2129</th>\n",
       "      <td>ZOWMK</td>\n",
       "      <td>Urban</td>\n",
       "      <td>Public</td>\n",
       "      <td>ZBH</td>\n",
       "      <td>Standard</td>\n",
       "      <td>30.0</td>\n",
       "      <td>VNP26</td>\n",
       "      <td>Female</td>\n",
       "      <td>Qualifies for reduced/free lunch</td>\n",
       "      <td>38.0</td>\n",
       "      <td>46.0</td>\n",
       "    </tr>\n",
       "    <tr>\n",
       "      <th>2130</th>\n",
       "      <td>ZOWMK</td>\n",
       "      <td>Urban</td>\n",
       "      <td>Public</td>\n",
       "      <td>ZBH</td>\n",
       "      <td>Standard</td>\n",
       "      <td>30.0</td>\n",
       "      <td>YDR1Z</td>\n",
       "      <td>Female</td>\n",
       "      <td>Qualifies for reduced/free lunch</td>\n",
       "      <td>45.0</td>\n",
       "      <td>51.0</td>\n",
       "    </tr>\n",
       "    <tr>\n",
       "      <th>2131</th>\n",
       "      <td>ZOWMK</td>\n",
       "      <td>Urban</td>\n",
       "      <td>Public</td>\n",
       "      <td>ZBH</td>\n",
       "      <td>Standard</td>\n",
       "      <td>30.0</td>\n",
       "      <td>YUEIH</td>\n",
       "      <td>Male</td>\n",
       "      <td>Qualifies for reduced/free lunch</td>\n",
       "      <td>46.0</td>\n",
       "      <td>53.0</td>\n",
       "    </tr>\n",
       "    <tr>\n",
       "      <th>2132</th>\n",
       "      <td>ZOWMK</td>\n",
       "      <td>Urban</td>\n",
       "      <td>Public</td>\n",
       "      <td>ZBH</td>\n",
       "      <td>Standard</td>\n",
       "      <td>30.0</td>\n",
       "      <td>ZVCQ8</td>\n",
       "      <td>Male</td>\n",
       "      <td>Qualifies for reduced/free lunch</td>\n",
       "      <td>41.0</td>\n",
       "      <td>48.0</td>\n",
       "    </tr>\n",
       "  </tbody>\n",
       "</table>\n",
       "<p>2133 rows × 11 columns</p>\n",
       "</div>"
      ],
      "text/plain": [
       "     school school_setting school_type classroom teaching_method  n_student  \\\n",
       "0     ANKYI          Urban  Non-public       6OL        Standard       20.0   \n",
       "1     ANKYI          Urban  Non-public       6OL        Standard       20.0   \n",
       "2     ANKYI          Urban  Non-public       6OL        Standard       20.0   \n",
       "3     ANKYI          Urban  Non-public       6OL        Standard       20.0   \n",
       "4     ANKYI          Urban  Non-public       6OL        Standard       20.0   \n",
       "...     ...            ...         ...       ...             ...        ...   \n",
       "2128  ZOWMK          Urban      Public       ZBH        Standard       30.0   \n",
       "2129  ZOWMK          Urban      Public       ZBH        Standard       30.0   \n",
       "2130  ZOWMK          Urban      Public       ZBH        Standard       30.0   \n",
       "2131  ZOWMK          Urban      Public       ZBH        Standard       30.0   \n",
       "2132  ZOWMK          Urban      Public       ZBH        Standard       30.0   \n",
       "\n",
       "     student_id  gender                             lunch  pretest  posttest  \n",
       "0         2FHT3  Female                  Does not qualify     62.0      72.0  \n",
       "1         3JIVH  Female                  Does not qualify     66.0      79.0  \n",
       "2         3XOWE    Male                  Does not qualify     64.0      76.0  \n",
       "3         556O0  Female                  Does not qualify     61.0      77.0  \n",
       "4         74LOE    Male                  Does not qualify     64.0      76.0  \n",
       "...         ...     ...                               ...      ...       ...  \n",
       "2128      T8LSK  Female                  Does not qualify     39.0      55.0  \n",
       "2129      VNP26  Female  Qualifies for reduced/free lunch     38.0      46.0  \n",
       "2130      YDR1Z  Female  Qualifies for reduced/free lunch     45.0      51.0  \n",
       "2131      YUEIH    Male  Qualifies for reduced/free lunch     46.0      53.0  \n",
       "2132      ZVCQ8    Male  Qualifies for reduced/free lunch     41.0      48.0  \n",
       "\n",
       "[2133 rows x 11 columns]"
      ]
     },
     "execution_count": 41,
     "metadata": {},
     "output_type": "execute_result"
    }
   ],
   "source": [
    "df"
   ]
  },
  {
   "cell_type": "code",
   "execution_count": 57,
   "id": "98bde545",
   "metadata": {},
   "outputs": [
    {
     "data": {
      "text/plain": [
       "'Urban'"
      ]
     },
     "execution_count": 57,
     "metadata": {},
     "output_type": "execute_result"
    }
   ],
   "source": [
    "df['school_setting'].mode()[0]"
   ]
  },
  {
   "cell_type": "code",
   "execution_count": 77,
   "id": "86f2196d",
   "metadata": {},
   "outputs": [],
   "source": [
    "def get_ratio_lunch(x):\n",
    "    return (x['lunch']=='Qualifies for reduced/free lunch').sum()/len(x)"
   ]
  },
  {
   "cell_type": "code",
   "execution_count": 75,
   "id": "81a951f8",
   "metadata": {},
   "outputs": [],
   "source": [
    "def get_ratio_method(x):\n",
    "    return (x['teaching_method']=='Experimental').sum()/len(x)"
   ]
  },
  {
   "cell_type": "code",
   "execution_count": 70,
   "id": "84e43224",
   "metadata": {},
   "outputs": [],
   "source": [
    "d_agg = {'school_setting':'first',\n",
    "        'school_type':'first',\n",
    "        'classroom':'nunique',\n",
    "        'n_student':'count',\n",
    "        'pretest':'mean',\n",
    "        'posttest':'mean'}"
   ]
  },
  {
   "cell_type": "code",
   "execution_count": 72,
   "id": "c89dfbd6",
   "metadata": {},
   "outputs": [],
   "source": [
    "df_schools = df.groupby('school').agg(d_agg)"
   ]
  },
  {
   "cell_type": "code",
   "execution_count": 73,
   "id": "ed447ee6",
   "metadata": {},
   "outputs": [
    {
     "data": {
      "text/html": [
       "<div>\n",
       "<style scoped>\n",
       "    .dataframe tbody tr th:only-of-type {\n",
       "        vertical-align: middle;\n",
       "    }\n",
       "\n",
       "    .dataframe tbody tr th {\n",
       "        vertical-align: top;\n",
       "    }\n",
       "\n",
       "    .dataframe thead th {\n",
       "        text-align: right;\n",
       "    }\n",
       "</style>\n",
       "<table border=\"1\" class=\"dataframe\">\n",
       "  <thead>\n",
       "    <tr style=\"text-align: right;\">\n",
       "      <th></th>\n",
       "      <th>school_setting</th>\n",
       "      <th>school_type</th>\n",
       "      <th>classroom</th>\n",
       "      <th>n_student</th>\n",
       "      <th>pretest</th>\n",
       "      <th>posttest</th>\n",
       "    </tr>\n",
       "    <tr>\n",
       "      <th>school</th>\n",
       "      <th></th>\n",
       "      <th></th>\n",
       "      <th></th>\n",
       "      <th></th>\n",
       "      <th></th>\n",
       "      <th></th>\n",
       "    </tr>\n",
       "  </thead>\n",
       "  <tbody>\n",
       "    <tr>\n",
       "      <th>ANKYI</th>\n",
       "      <td>Urban</td>\n",
       "      <td>Non-public</td>\n",
       "      <td>2</td>\n",
       "      <td>41</td>\n",
       "      <td>61.341463</td>\n",
       "      <td>71.390244</td>\n",
       "    </tr>\n",
       "    <tr>\n",
       "      <th>CCAAW</th>\n",
       "      <td>Suburban</td>\n",
       "      <td>Non-public</td>\n",
       "      <td>6</td>\n",
       "      <td>109</td>\n",
       "      <td>64.623853</td>\n",
       "      <td>78.110092</td>\n",
       "    </tr>\n",
       "    <tr>\n",
       "      <th>CIMBB</th>\n",
       "      <td>Urban</td>\n",
       "      <td>Non-public</td>\n",
       "      <td>4</td>\n",
       "      <td>74</td>\n",
       "      <td>65.067568</td>\n",
       "      <td>76.945946</td>\n",
       "    </tr>\n",
       "    <tr>\n",
       "      <th>CUQAM</th>\n",
       "      <td>Urban</td>\n",
       "      <td>Public</td>\n",
       "      <td>4</td>\n",
       "      <td>107</td>\n",
       "      <td>53.925234</td>\n",
       "      <td>65.560748</td>\n",
       "    </tr>\n",
       "    <tr>\n",
       "      <th>DNQDD</th>\n",
       "      <td>Suburban</td>\n",
       "      <td>Public</td>\n",
       "      <td>5</td>\n",
       "      <td>122</td>\n",
       "      <td>54.327869</td>\n",
       "      <td>66.565574</td>\n",
       "    </tr>\n",
       "    <tr>\n",
       "      <th>FBUMG</th>\n",
       "      <td>Rural</td>\n",
       "      <td>Non-public</td>\n",
       "      <td>3</td>\n",
       "      <td>46</td>\n",
       "      <td>62.891304</td>\n",
       "      <td>78.608696</td>\n",
       "    </tr>\n",
       "    <tr>\n",
       "      <th>GJJHK</th>\n",
       "      <td>Suburban</td>\n",
       "      <td>Public</td>\n",
       "      <td>5</td>\n",
       "      <td>118</td>\n",
       "      <td>53.194915</td>\n",
       "      <td>65.025424</td>\n",
       "    </tr>\n",
       "    <tr>\n",
       "      <th>GOKXL</th>\n",
       "      <td>Rural</td>\n",
       "      <td>Public</td>\n",
       "      <td>3</td>\n",
       "      <td>64</td>\n",
       "      <td>50.796875</td>\n",
       "      <td>64.953125</td>\n",
       "    </tr>\n",
       "    <tr>\n",
       "      <th>GOOBU</th>\n",
       "      <td>Urban</td>\n",
       "      <td>Public</td>\n",
       "      <td>6</td>\n",
       "      <td>158</td>\n",
       "      <td>38.196203</td>\n",
       "      <td>49.613924</td>\n",
       "    </tr>\n",
       "    <tr>\n",
       "      <th>IDGFP</th>\n",
       "      <td>Urban</td>\n",
       "      <td>Non-public</td>\n",
       "      <td>5</td>\n",
       "      <td>94</td>\n",
       "      <td>75.202128</td>\n",
       "      <td>87.223404</td>\n",
       "    </tr>\n",
       "    <tr>\n",
       "      <th>KFZMY</th>\n",
       "      <td>Urban</td>\n",
       "      <td>Non-public</td>\n",
       "      <td>2</td>\n",
       "      <td>52</td>\n",
       "      <td>41.865385</td>\n",
       "      <td>54.576923</td>\n",
       "    </tr>\n",
       "    <tr>\n",
       "      <th>KZKKE</th>\n",
       "      <td>Rural</td>\n",
       "      <td>Public</td>\n",
       "      <td>5</td>\n",
       "      <td>111</td>\n",
       "      <td>37.261261</td>\n",
       "      <td>47.918919</td>\n",
       "    </tr>\n",
       "    <tr>\n",
       "      <th>LAYPA</th>\n",
       "      <td>Rural</td>\n",
       "      <td>Public</td>\n",
       "      <td>3</td>\n",
       "      <td>57</td>\n",
       "      <td>62.035088</td>\n",
       "      <td>73.508772</td>\n",
       "    </tr>\n",
       "    <tr>\n",
       "      <th>OJOBU</th>\n",
       "      <td>Rural</td>\n",
       "      <td>Public</td>\n",
       "      <td>4</td>\n",
       "      <td>81</td>\n",
       "      <td>56.197531</td>\n",
       "      <td>67.814815</td>\n",
       "    </tr>\n",
       "    <tr>\n",
       "      <th>QOQTS</th>\n",
       "      <td>Urban</td>\n",
       "      <td>Public</td>\n",
       "      <td>6</td>\n",
       "      <td>149</td>\n",
       "      <td>52.597315</td>\n",
       "      <td>64.671141</td>\n",
       "    </tr>\n",
       "    <tr>\n",
       "      <th>UAGPU</th>\n",
       "      <td>Suburban</td>\n",
       "      <td>Public</td>\n",
       "      <td>4</td>\n",
       "      <td>87</td>\n",
       "      <td>62.390805</td>\n",
       "      <td>71.873563</td>\n",
       "    </tr>\n",
       "    <tr>\n",
       "      <th>UKPGS</th>\n",
       "      <td>Suburban</td>\n",
       "      <td>Public</td>\n",
       "      <td>6</td>\n",
       "      <td>128</td>\n",
       "      <td>78.453125</td>\n",
       "      <td>91.164062</td>\n",
       "    </tr>\n",
       "    <tr>\n",
       "      <th>UUUQX</th>\n",
       "      <td>Suburban</td>\n",
       "      <td>Non-public</td>\n",
       "      <td>5</td>\n",
       "      <td>84</td>\n",
       "      <td>67.309524</td>\n",
       "      <td>79.261905</td>\n",
       "    </tr>\n",
       "    <tr>\n",
       "      <th>VHDHF</th>\n",
       "      <td>Rural</td>\n",
       "      <td>Non-public</td>\n",
       "      <td>3</td>\n",
       "      <td>51</td>\n",
       "      <td>52.666667</td>\n",
       "      <td>66.843137</td>\n",
       "    </tr>\n",
       "    <tr>\n",
       "      <th>VKWQH</th>\n",
       "      <td>Rural</td>\n",
       "      <td>Public</td>\n",
       "      <td>5</td>\n",
       "      <td>100</td>\n",
       "      <td>52.060000</td>\n",
       "      <td>64.820000</td>\n",
       "    </tr>\n",
       "    <tr>\n",
       "      <th>VVTVA</th>\n",
       "      <td>Urban</td>\n",
       "      <td>Public</td>\n",
       "      <td>4</td>\n",
       "      <td>114</td>\n",
       "      <td>36.008772</td>\n",
       "      <td>49.175439</td>\n",
       "    </tr>\n",
       "    <tr>\n",
       "      <th>ZMNYA</th>\n",
       "      <td>Suburban</td>\n",
       "      <td>Public</td>\n",
       "      <td>3</td>\n",
       "      <td>69</td>\n",
       "      <td>68.130435</td>\n",
       "      <td>81.608696</td>\n",
       "    </tr>\n",
       "    <tr>\n",
       "      <th>ZOWMK</th>\n",
       "      <td>Urban</td>\n",
       "      <td>Public</td>\n",
       "      <td>4</td>\n",
       "      <td>117</td>\n",
       "      <td>41.572650</td>\n",
       "      <td>52.905983</td>\n",
       "    </tr>\n",
       "  </tbody>\n",
       "</table>\n",
       "</div>"
      ],
      "text/plain": [
       "       school_setting school_type  classroom  n_student    pretest   posttest\n",
       "school                                                                       \n",
       "ANKYI           Urban  Non-public          2         41  61.341463  71.390244\n",
       "CCAAW        Suburban  Non-public          6        109  64.623853  78.110092\n",
       "CIMBB           Urban  Non-public          4         74  65.067568  76.945946\n",
       "CUQAM           Urban      Public          4        107  53.925234  65.560748\n",
       "DNQDD        Suburban      Public          5        122  54.327869  66.565574\n",
       "FBUMG           Rural  Non-public          3         46  62.891304  78.608696\n",
       "GJJHK        Suburban      Public          5        118  53.194915  65.025424\n",
       "GOKXL           Rural      Public          3         64  50.796875  64.953125\n",
       "GOOBU           Urban      Public          6        158  38.196203  49.613924\n",
       "IDGFP           Urban  Non-public          5         94  75.202128  87.223404\n",
       "KFZMY           Urban  Non-public          2         52  41.865385  54.576923\n",
       "KZKKE           Rural      Public          5        111  37.261261  47.918919\n",
       "LAYPA           Rural      Public          3         57  62.035088  73.508772\n",
       "OJOBU           Rural      Public          4         81  56.197531  67.814815\n",
       "QOQTS           Urban      Public          6        149  52.597315  64.671141\n",
       "UAGPU        Suburban      Public          4         87  62.390805  71.873563\n",
       "UKPGS        Suburban      Public          6        128  78.453125  91.164062\n",
       "UUUQX        Suburban  Non-public          5         84  67.309524  79.261905\n",
       "VHDHF           Rural  Non-public          3         51  52.666667  66.843137\n",
       "VKWQH           Rural      Public          5        100  52.060000  64.820000\n",
       "VVTVA           Urban      Public          4        114  36.008772  49.175439\n",
       "ZMNYA        Suburban      Public          3         69  68.130435  81.608696\n",
       "ZOWMK           Urban      Public          4        117  41.572650  52.905983"
      ]
     },
     "execution_count": 73,
     "metadata": {},
     "output_type": "execute_result"
    }
   ],
   "source": [
    "df_schools"
   ]
  },
  {
   "cell_type": "code",
   "execution_count": 84,
   "id": "8b9650b0",
   "metadata": {},
   "outputs": [],
   "source": [
    "method = pd.DataFrame(df.groupby('school').apply(get_ratio_method), columns=['fraction_experimental'])"
   ]
  },
  {
   "cell_type": "code",
   "execution_count": 85,
   "id": "07f5191c",
   "metadata": {},
   "outputs": [],
   "source": [
    "lunch = pd.DataFrame(df.groupby('school').apply(get_ratio_lunch), columns=['fraction_lunch'])"
   ]
  },
  {
   "cell_type": "code",
   "execution_count": 86,
   "id": "13cf0699",
   "metadata": {},
   "outputs": [
    {
     "data": {
      "text/html": [
       "<div>\n",
       "<style scoped>\n",
       "    .dataframe tbody tr th:only-of-type {\n",
       "        vertical-align: middle;\n",
       "    }\n",
       "\n",
       "    .dataframe tbody tr th {\n",
       "        vertical-align: top;\n",
       "    }\n",
       "\n",
       "    .dataframe thead th {\n",
       "        text-align: right;\n",
       "    }\n",
       "</style>\n",
       "<table border=\"1\" class=\"dataframe\">\n",
       "  <thead>\n",
       "    <tr style=\"text-align: right;\">\n",
       "      <th></th>\n",
       "      <th>fraction_experimental</th>\n",
       "    </tr>\n",
       "    <tr>\n",
       "      <th>school</th>\n",
       "      <th></th>\n",
       "    </tr>\n",
       "  </thead>\n",
       "  <tbody>\n",
       "    <tr>\n",
       "      <th>ANKYI</th>\n",
       "      <td>0.000000</td>\n",
       "    </tr>\n",
       "    <tr>\n",
       "      <th>CCAAW</th>\n",
       "      <td>0.633028</td>\n",
       "    </tr>\n",
       "    <tr>\n",
       "      <th>CIMBB</th>\n",
       "      <td>0.229730</td>\n",
       "    </tr>\n",
       "    <tr>\n",
       "      <th>CUQAM</th>\n",
       "      <td>0.224299</td>\n",
       "    </tr>\n",
       "    <tr>\n",
       "      <th>DNQDD</th>\n",
       "      <td>0.393443</td>\n",
       "    </tr>\n",
       "    <tr>\n",
       "      <th>FBUMG</th>\n",
       "      <td>1.000000</td>\n",
       "    </tr>\n",
       "    <tr>\n",
       "      <th>GJJHK</th>\n",
       "      <td>0.228814</td>\n",
       "    </tr>\n",
       "    <tr>\n",
       "      <th>GOKXL</th>\n",
       "      <td>0.703125</td>\n",
       "    </tr>\n",
       "    <tr>\n",
       "      <th>GOOBU</th>\n",
       "      <td>0.164557</td>\n",
       "    </tr>\n",
       "    <tr>\n",
       "      <th>IDGFP</th>\n",
       "      <td>0.404255</td>\n",
       "    </tr>\n",
       "    <tr>\n",
       "      <th>KFZMY</th>\n",
       "      <td>0.519231</td>\n",
       "    </tr>\n",
       "    <tr>\n",
       "      <th>KZKKE</th>\n",
       "      <td>0.000000</td>\n",
       "    </tr>\n",
       "    <tr>\n",
       "      <th>LAYPA</th>\n",
       "      <td>0.298246</td>\n",
       "    </tr>\n",
       "    <tr>\n",
       "      <th>OJOBU</th>\n",
       "      <td>0.209877</td>\n",
       "    </tr>\n",
       "    <tr>\n",
       "      <th>QOQTS</th>\n",
       "      <td>0.355705</td>\n",
       "    </tr>\n",
       "    <tr>\n",
       "      <th>UAGPU</th>\n",
       "      <td>0.000000</td>\n",
       "    </tr>\n",
       "    <tr>\n",
       "      <th>UKPGS</th>\n",
       "      <td>0.468750</td>\n",
       "    </tr>\n",
       "    <tr>\n",
       "      <th>UUUQX</th>\n",
       "      <td>0.392857</td>\n",
       "    </tr>\n",
       "    <tr>\n",
       "      <th>VHDHF</th>\n",
       "      <td>0.686275</td>\n",
       "    </tr>\n",
       "    <tr>\n",
       "      <th>VKWQH</th>\n",
       "      <td>0.410000</td>\n",
       "    </tr>\n",
       "    <tr>\n",
       "      <th>VVTVA</th>\n",
       "      <td>0.526316</td>\n",
       "    </tr>\n",
       "    <tr>\n",
       "      <th>ZMNYA</th>\n",
       "      <td>0.681159</td>\n",
       "    </tr>\n",
       "    <tr>\n",
       "      <th>ZOWMK</th>\n",
       "      <td>0.256410</td>\n",
       "    </tr>\n",
       "  </tbody>\n",
       "</table>\n",
       "</div>"
      ],
      "text/plain": [
       "        fraction_experimental\n",
       "school                       \n",
       "ANKYI                0.000000\n",
       "CCAAW                0.633028\n",
       "CIMBB                0.229730\n",
       "CUQAM                0.224299\n",
       "DNQDD                0.393443\n",
       "FBUMG                1.000000\n",
       "GJJHK                0.228814\n",
       "GOKXL                0.703125\n",
       "GOOBU                0.164557\n",
       "IDGFP                0.404255\n",
       "KFZMY                0.519231\n",
       "KZKKE                0.000000\n",
       "LAYPA                0.298246\n",
       "OJOBU                0.209877\n",
       "QOQTS                0.355705\n",
       "UAGPU                0.000000\n",
       "UKPGS                0.468750\n",
       "UUUQX                0.392857\n",
       "VHDHF                0.686275\n",
       "VKWQH                0.410000\n",
       "VVTVA                0.526316\n",
       "ZMNYA                0.681159\n",
       "ZOWMK                0.256410"
      ]
     },
     "execution_count": 86,
     "metadata": {},
     "output_type": "execute_result"
    }
   ],
   "source": [
    "method"
   ]
  },
  {
   "cell_type": "code",
   "execution_count": 87,
   "id": "c60b76ed",
   "metadata": {},
   "outputs": [
    {
     "data": {
      "text/html": [
       "<div>\n",
       "<style scoped>\n",
       "    .dataframe tbody tr th:only-of-type {\n",
       "        vertical-align: middle;\n",
       "    }\n",
       "\n",
       "    .dataframe tbody tr th {\n",
       "        vertical-align: top;\n",
       "    }\n",
       "\n",
       "    .dataframe thead th {\n",
       "        text-align: right;\n",
       "    }\n",
       "</style>\n",
       "<table border=\"1\" class=\"dataframe\">\n",
       "  <thead>\n",
       "    <tr style=\"text-align: right;\">\n",
       "      <th></th>\n",
       "      <th>fraction_lunch</th>\n",
       "    </tr>\n",
       "    <tr>\n",
       "      <th>school</th>\n",
       "      <th></th>\n",
       "    </tr>\n",
       "  </thead>\n",
       "  <tbody>\n",
       "    <tr>\n",
       "      <th>ANKYI</th>\n",
       "      <td>0.024390</td>\n",
       "    </tr>\n",
       "    <tr>\n",
       "      <th>CCAAW</th>\n",
       "      <td>0.486239</td>\n",
       "    </tr>\n",
       "    <tr>\n",
       "      <th>CIMBB</th>\n",
       "      <td>0.013514</td>\n",
       "    </tr>\n",
       "    <tr>\n",
       "      <th>CUQAM</th>\n",
       "      <td>0.149533</td>\n",
       "    </tr>\n",
       "    <tr>\n",
       "      <th>DNQDD</th>\n",
       "      <td>0.631148</td>\n",
       "    </tr>\n",
       "    <tr>\n",
       "      <th>FBUMG</th>\n",
       "      <td>0.239130</td>\n",
       "    </tr>\n",
       "    <tr>\n",
       "      <th>GJJHK</th>\n",
       "      <td>0.855932</td>\n",
       "    </tr>\n",
       "    <tr>\n",
       "      <th>GOKXL</th>\n",
       "      <td>0.812500</td>\n",
       "    </tr>\n",
       "    <tr>\n",
       "      <th>GOOBU</th>\n",
       "      <td>0.917722</td>\n",
       "    </tr>\n",
       "    <tr>\n",
       "      <th>IDGFP</th>\n",
       "      <td>0.000000</td>\n",
       "    </tr>\n",
       "    <tr>\n",
       "      <th>KFZMY</th>\n",
       "      <td>0.807692</td>\n",
       "    </tr>\n",
       "    <tr>\n",
       "      <th>KZKKE</th>\n",
       "      <td>1.000000</td>\n",
       "    </tr>\n",
       "    <tr>\n",
       "      <th>LAYPA</th>\n",
       "      <td>0.000000</td>\n",
       "    </tr>\n",
       "    <tr>\n",
       "      <th>OJOBU</th>\n",
       "      <td>0.135802</td>\n",
       "    </tr>\n",
       "    <tr>\n",
       "      <th>QOQTS</th>\n",
       "      <td>0.060403</td>\n",
       "    </tr>\n",
       "    <tr>\n",
       "      <th>UAGPU</th>\n",
       "      <td>0.022989</td>\n",
       "    </tr>\n",
       "    <tr>\n",
       "      <th>UKPGS</th>\n",
       "      <td>0.000000</td>\n",
       "    </tr>\n",
       "    <tr>\n",
       "      <th>UUUQX</th>\n",
       "      <td>0.059524</td>\n",
       "    </tr>\n",
       "    <tr>\n",
       "      <th>VHDHF</th>\n",
       "      <td>0.882353</td>\n",
       "    </tr>\n",
       "    <tr>\n",
       "      <th>VKWQH</th>\n",
       "      <td>0.100000</td>\n",
       "    </tr>\n",
       "    <tr>\n",
       "      <th>VVTVA</th>\n",
       "      <td>0.982456</td>\n",
       "    </tr>\n",
       "    <tr>\n",
       "      <th>ZMNYA</th>\n",
       "      <td>0.115942</td>\n",
       "    </tr>\n",
       "    <tr>\n",
       "      <th>ZOWMK</th>\n",
       "      <td>0.905983</td>\n",
       "    </tr>\n",
       "  </tbody>\n",
       "</table>\n",
       "</div>"
      ],
      "text/plain": [
       "        fraction_lunch\n",
       "school                \n",
       "ANKYI         0.024390\n",
       "CCAAW         0.486239\n",
       "CIMBB         0.013514\n",
       "CUQAM         0.149533\n",
       "DNQDD         0.631148\n",
       "FBUMG         0.239130\n",
       "GJJHK         0.855932\n",
       "GOKXL         0.812500\n",
       "GOOBU         0.917722\n",
       "IDGFP         0.000000\n",
       "KFZMY         0.807692\n",
       "KZKKE         1.000000\n",
       "LAYPA         0.000000\n",
       "OJOBU         0.135802\n",
       "QOQTS         0.060403\n",
       "UAGPU         0.022989\n",
       "UKPGS         0.000000\n",
       "UUUQX         0.059524\n",
       "VHDHF         0.882353\n",
       "VKWQH         0.100000\n",
       "VVTVA         0.982456\n",
       "ZMNYA         0.115942\n",
       "ZOWMK         0.905983"
      ]
     },
     "execution_count": 87,
     "metadata": {},
     "output_type": "execute_result"
    }
   ],
   "source": [
    "lunch"
   ]
  },
  {
   "cell_type": "code",
   "execution_count": 91,
   "id": "b7f653b0",
   "metadata": {},
   "outputs": [],
   "source": [
    "df_schools = df_schools.merge(method, left_index=True, right_index=True).merge(lunch, left_index=True, right_index=True)"
   ]
  },
  {
   "cell_type": "code",
   "execution_count": 93,
   "id": "2f2cf746",
   "metadata": {},
   "outputs": [
    {
     "data": {
      "text/plain": [
       "Index(['school_setting', 'school_type', 'classroom', 'n_student', 'pretest',\n",
       "       'posttest', 'fraction_experimental', 'fraction_lunch'],\n",
       "      dtype='object')"
      ]
     },
     "execution_count": 93,
     "metadata": {},
     "output_type": "execute_result"
    }
   ],
   "source": [
    "df_schools.columns"
   ]
  },
  {
   "cell_type": "code",
   "execution_count": 95,
   "id": "bc9339c7",
   "metadata": {},
   "outputs": [],
   "source": [
    "df_schools = df_schools.rename(columns={'classroom':'number_of_classes',\n",
    "                           'n_student':'number_of_students'})"
   ]
  },
  {
   "cell_type": "code",
   "execution_count": 96,
   "id": "79091e2c",
   "metadata": {},
   "outputs": [
    {
     "data": {
      "text/html": [
       "<div>\n",
       "<style scoped>\n",
       "    .dataframe tbody tr th:only-of-type {\n",
       "        vertical-align: middle;\n",
       "    }\n",
       "\n",
       "    .dataframe tbody tr th {\n",
       "        vertical-align: top;\n",
       "    }\n",
       "\n",
       "    .dataframe thead th {\n",
       "        text-align: right;\n",
       "    }\n",
       "</style>\n",
       "<table border=\"1\" class=\"dataframe\">\n",
       "  <thead>\n",
       "    <tr style=\"text-align: right;\">\n",
       "      <th></th>\n",
       "      <th>school_setting</th>\n",
       "      <th>school_type</th>\n",
       "      <th>number_of_classes</th>\n",
       "      <th>number_of_students</th>\n",
       "      <th>pretest</th>\n",
       "      <th>posttest</th>\n",
       "      <th>fraction_experimental</th>\n",
       "      <th>fraction_lunch</th>\n",
       "    </tr>\n",
       "    <tr>\n",
       "      <th>school</th>\n",
       "      <th></th>\n",
       "      <th></th>\n",
       "      <th></th>\n",
       "      <th></th>\n",
       "      <th></th>\n",
       "      <th></th>\n",
       "      <th></th>\n",
       "      <th></th>\n",
       "    </tr>\n",
       "  </thead>\n",
       "  <tbody>\n",
       "    <tr>\n",
       "      <th>ANKYI</th>\n",
       "      <td>Urban</td>\n",
       "      <td>Non-public</td>\n",
       "      <td>2</td>\n",
       "      <td>41</td>\n",
       "      <td>61.341463</td>\n",
       "      <td>71.390244</td>\n",
       "      <td>0.000000</td>\n",
       "      <td>0.024390</td>\n",
       "    </tr>\n",
       "    <tr>\n",
       "      <th>CCAAW</th>\n",
       "      <td>Suburban</td>\n",
       "      <td>Non-public</td>\n",
       "      <td>6</td>\n",
       "      <td>109</td>\n",
       "      <td>64.623853</td>\n",
       "      <td>78.110092</td>\n",
       "      <td>0.633028</td>\n",
       "      <td>0.486239</td>\n",
       "    </tr>\n",
       "    <tr>\n",
       "      <th>CIMBB</th>\n",
       "      <td>Urban</td>\n",
       "      <td>Non-public</td>\n",
       "      <td>4</td>\n",
       "      <td>74</td>\n",
       "      <td>65.067568</td>\n",
       "      <td>76.945946</td>\n",
       "      <td>0.229730</td>\n",
       "      <td>0.013514</td>\n",
       "    </tr>\n",
       "    <tr>\n",
       "      <th>CUQAM</th>\n",
       "      <td>Urban</td>\n",
       "      <td>Public</td>\n",
       "      <td>4</td>\n",
       "      <td>107</td>\n",
       "      <td>53.925234</td>\n",
       "      <td>65.560748</td>\n",
       "      <td>0.224299</td>\n",
       "      <td>0.149533</td>\n",
       "    </tr>\n",
       "    <tr>\n",
       "      <th>DNQDD</th>\n",
       "      <td>Suburban</td>\n",
       "      <td>Public</td>\n",
       "      <td>5</td>\n",
       "      <td>122</td>\n",
       "      <td>54.327869</td>\n",
       "      <td>66.565574</td>\n",
       "      <td>0.393443</td>\n",
       "      <td>0.631148</td>\n",
       "    </tr>\n",
       "    <tr>\n",
       "      <th>FBUMG</th>\n",
       "      <td>Rural</td>\n",
       "      <td>Non-public</td>\n",
       "      <td>3</td>\n",
       "      <td>46</td>\n",
       "      <td>62.891304</td>\n",
       "      <td>78.608696</td>\n",
       "      <td>1.000000</td>\n",
       "      <td>0.239130</td>\n",
       "    </tr>\n",
       "    <tr>\n",
       "      <th>GJJHK</th>\n",
       "      <td>Suburban</td>\n",
       "      <td>Public</td>\n",
       "      <td>5</td>\n",
       "      <td>118</td>\n",
       "      <td>53.194915</td>\n",
       "      <td>65.025424</td>\n",
       "      <td>0.228814</td>\n",
       "      <td>0.855932</td>\n",
       "    </tr>\n",
       "    <tr>\n",
       "      <th>GOKXL</th>\n",
       "      <td>Rural</td>\n",
       "      <td>Public</td>\n",
       "      <td>3</td>\n",
       "      <td>64</td>\n",
       "      <td>50.796875</td>\n",
       "      <td>64.953125</td>\n",
       "      <td>0.703125</td>\n",
       "      <td>0.812500</td>\n",
       "    </tr>\n",
       "    <tr>\n",
       "      <th>GOOBU</th>\n",
       "      <td>Urban</td>\n",
       "      <td>Public</td>\n",
       "      <td>6</td>\n",
       "      <td>158</td>\n",
       "      <td>38.196203</td>\n",
       "      <td>49.613924</td>\n",
       "      <td>0.164557</td>\n",
       "      <td>0.917722</td>\n",
       "    </tr>\n",
       "    <tr>\n",
       "      <th>IDGFP</th>\n",
       "      <td>Urban</td>\n",
       "      <td>Non-public</td>\n",
       "      <td>5</td>\n",
       "      <td>94</td>\n",
       "      <td>75.202128</td>\n",
       "      <td>87.223404</td>\n",
       "      <td>0.404255</td>\n",
       "      <td>0.000000</td>\n",
       "    </tr>\n",
       "    <tr>\n",
       "      <th>KFZMY</th>\n",
       "      <td>Urban</td>\n",
       "      <td>Non-public</td>\n",
       "      <td>2</td>\n",
       "      <td>52</td>\n",
       "      <td>41.865385</td>\n",
       "      <td>54.576923</td>\n",
       "      <td>0.519231</td>\n",
       "      <td>0.807692</td>\n",
       "    </tr>\n",
       "    <tr>\n",
       "      <th>KZKKE</th>\n",
       "      <td>Rural</td>\n",
       "      <td>Public</td>\n",
       "      <td>5</td>\n",
       "      <td>111</td>\n",
       "      <td>37.261261</td>\n",
       "      <td>47.918919</td>\n",
       "      <td>0.000000</td>\n",
       "      <td>1.000000</td>\n",
       "    </tr>\n",
       "    <tr>\n",
       "      <th>LAYPA</th>\n",
       "      <td>Rural</td>\n",
       "      <td>Public</td>\n",
       "      <td>3</td>\n",
       "      <td>57</td>\n",
       "      <td>62.035088</td>\n",
       "      <td>73.508772</td>\n",
       "      <td>0.298246</td>\n",
       "      <td>0.000000</td>\n",
       "    </tr>\n",
       "    <tr>\n",
       "      <th>OJOBU</th>\n",
       "      <td>Rural</td>\n",
       "      <td>Public</td>\n",
       "      <td>4</td>\n",
       "      <td>81</td>\n",
       "      <td>56.197531</td>\n",
       "      <td>67.814815</td>\n",
       "      <td>0.209877</td>\n",
       "      <td>0.135802</td>\n",
       "    </tr>\n",
       "    <tr>\n",
       "      <th>QOQTS</th>\n",
       "      <td>Urban</td>\n",
       "      <td>Public</td>\n",
       "      <td>6</td>\n",
       "      <td>149</td>\n",
       "      <td>52.597315</td>\n",
       "      <td>64.671141</td>\n",
       "      <td>0.355705</td>\n",
       "      <td>0.060403</td>\n",
       "    </tr>\n",
       "    <tr>\n",
       "      <th>UAGPU</th>\n",
       "      <td>Suburban</td>\n",
       "      <td>Public</td>\n",
       "      <td>4</td>\n",
       "      <td>87</td>\n",
       "      <td>62.390805</td>\n",
       "      <td>71.873563</td>\n",
       "      <td>0.000000</td>\n",
       "      <td>0.022989</td>\n",
       "    </tr>\n",
       "    <tr>\n",
       "      <th>UKPGS</th>\n",
       "      <td>Suburban</td>\n",
       "      <td>Public</td>\n",
       "      <td>6</td>\n",
       "      <td>128</td>\n",
       "      <td>78.453125</td>\n",
       "      <td>91.164062</td>\n",
       "      <td>0.468750</td>\n",
       "      <td>0.000000</td>\n",
       "    </tr>\n",
       "    <tr>\n",
       "      <th>UUUQX</th>\n",
       "      <td>Suburban</td>\n",
       "      <td>Non-public</td>\n",
       "      <td>5</td>\n",
       "      <td>84</td>\n",
       "      <td>67.309524</td>\n",
       "      <td>79.261905</td>\n",
       "      <td>0.392857</td>\n",
       "      <td>0.059524</td>\n",
       "    </tr>\n",
       "    <tr>\n",
       "      <th>VHDHF</th>\n",
       "      <td>Rural</td>\n",
       "      <td>Non-public</td>\n",
       "      <td>3</td>\n",
       "      <td>51</td>\n",
       "      <td>52.666667</td>\n",
       "      <td>66.843137</td>\n",
       "      <td>0.686275</td>\n",
       "      <td>0.882353</td>\n",
       "    </tr>\n",
       "    <tr>\n",
       "      <th>VKWQH</th>\n",
       "      <td>Rural</td>\n",
       "      <td>Public</td>\n",
       "      <td>5</td>\n",
       "      <td>100</td>\n",
       "      <td>52.060000</td>\n",
       "      <td>64.820000</td>\n",
       "      <td>0.410000</td>\n",
       "      <td>0.100000</td>\n",
       "    </tr>\n",
       "    <tr>\n",
       "      <th>VVTVA</th>\n",
       "      <td>Urban</td>\n",
       "      <td>Public</td>\n",
       "      <td>4</td>\n",
       "      <td>114</td>\n",
       "      <td>36.008772</td>\n",
       "      <td>49.175439</td>\n",
       "      <td>0.526316</td>\n",
       "      <td>0.982456</td>\n",
       "    </tr>\n",
       "    <tr>\n",
       "      <th>ZMNYA</th>\n",
       "      <td>Suburban</td>\n",
       "      <td>Public</td>\n",
       "      <td>3</td>\n",
       "      <td>69</td>\n",
       "      <td>68.130435</td>\n",
       "      <td>81.608696</td>\n",
       "      <td>0.681159</td>\n",
       "      <td>0.115942</td>\n",
       "    </tr>\n",
       "    <tr>\n",
       "      <th>ZOWMK</th>\n",
       "      <td>Urban</td>\n",
       "      <td>Public</td>\n",
       "      <td>4</td>\n",
       "      <td>117</td>\n",
       "      <td>41.572650</td>\n",
       "      <td>52.905983</td>\n",
       "      <td>0.256410</td>\n",
       "      <td>0.905983</td>\n",
       "    </tr>\n",
       "  </tbody>\n",
       "</table>\n",
       "</div>"
      ],
      "text/plain": [
       "       school_setting school_type  number_of_classes  number_of_students  \\\n",
       "school                                                                     \n",
       "ANKYI           Urban  Non-public                  2                  41   \n",
       "CCAAW        Suburban  Non-public                  6                 109   \n",
       "CIMBB           Urban  Non-public                  4                  74   \n",
       "CUQAM           Urban      Public                  4                 107   \n",
       "DNQDD        Suburban      Public                  5                 122   \n",
       "FBUMG           Rural  Non-public                  3                  46   \n",
       "GJJHK        Suburban      Public                  5                 118   \n",
       "GOKXL           Rural      Public                  3                  64   \n",
       "GOOBU           Urban      Public                  6                 158   \n",
       "IDGFP           Urban  Non-public                  5                  94   \n",
       "KFZMY           Urban  Non-public                  2                  52   \n",
       "KZKKE           Rural      Public                  5                 111   \n",
       "LAYPA           Rural      Public                  3                  57   \n",
       "OJOBU           Rural      Public                  4                  81   \n",
       "QOQTS           Urban      Public                  6                 149   \n",
       "UAGPU        Suburban      Public                  4                  87   \n",
       "UKPGS        Suburban      Public                  6                 128   \n",
       "UUUQX        Suburban  Non-public                  5                  84   \n",
       "VHDHF           Rural  Non-public                  3                  51   \n",
       "VKWQH           Rural      Public                  5                 100   \n",
       "VVTVA           Urban      Public                  4                 114   \n",
       "ZMNYA        Suburban      Public                  3                  69   \n",
       "ZOWMK           Urban      Public                  4                 117   \n",
       "\n",
       "          pretest   posttest  fraction_experimental  fraction_lunch  \n",
       "school                                                               \n",
       "ANKYI   61.341463  71.390244               0.000000        0.024390  \n",
       "CCAAW   64.623853  78.110092               0.633028        0.486239  \n",
       "CIMBB   65.067568  76.945946               0.229730        0.013514  \n",
       "CUQAM   53.925234  65.560748               0.224299        0.149533  \n",
       "DNQDD   54.327869  66.565574               0.393443        0.631148  \n",
       "FBUMG   62.891304  78.608696               1.000000        0.239130  \n",
       "GJJHK   53.194915  65.025424               0.228814        0.855932  \n",
       "GOKXL   50.796875  64.953125               0.703125        0.812500  \n",
       "GOOBU   38.196203  49.613924               0.164557        0.917722  \n",
       "IDGFP   75.202128  87.223404               0.404255        0.000000  \n",
       "KFZMY   41.865385  54.576923               0.519231        0.807692  \n",
       "KZKKE   37.261261  47.918919               0.000000        1.000000  \n",
       "LAYPA   62.035088  73.508772               0.298246        0.000000  \n",
       "OJOBU   56.197531  67.814815               0.209877        0.135802  \n",
       "QOQTS   52.597315  64.671141               0.355705        0.060403  \n",
       "UAGPU   62.390805  71.873563               0.000000        0.022989  \n",
       "UKPGS   78.453125  91.164062               0.468750        0.000000  \n",
       "UUUQX   67.309524  79.261905               0.392857        0.059524  \n",
       "VHDHF   52.666667  66.843137               0.686275        0.882353  \n",
       "VKWQH   52.060000  64.820000               0.410000        0.100000  \n",
       "VVTVA   36.008772  49.175439               0.526316        0.982456  \n",
       "ZMNYA   68.130435  81.608696               0.681159        0.115942  \n",
       "ZOWMK   41.572650  52.905983               0.256410        0.905983  "
      ]
     },
     "execution_count": 96,
     "metadata": {},
     "output_type": "execute_result"
    }
   ],
   "source": [
    "df_schools"
   ]
  },
  {
   "cell_type": "code",
   "execution_count": 98,
   "id": "307d8534",
   "metadata": {},
   "outputs": [
    {
     "name": "stdout",
     "output_type": "stream",
     "text": [
      "<class 'pandas.core.frame.DataFrame'>\n",
      "Index: 23 entries, ANKYI to ZOWMK\n",
      "Data columns (total 8 columns):\n",
      " #   Column                 Non-Null Count  Dtype  \n",
      "---  ------                 --------------  -----  \n",
      " 0   school_setting         23 non-null     object \n",
      " 1   school_type            23 non-null     object \n",
      " 2   number_of_classes      23 non-null     int64  \n",
      " 3   number_of_students     23 non-null     int64  \n",
      " 4   pretest                23 non-null     float64\n",
      " 5   posttest               23 non-null     float64\n",
      " 6   fraction_experimental  23 non-null     float64\n",
      " 7   fraction_lunch         23 non-null     float64\n",
      "dtypes: float64(4), int64(2), object(2)\n",
      "memory usage: 2.2+ KB\n"
     ]
    }
   ],
   "source": [
    "df_schools.info()"
   ]
  },
  {
   "cell_type": "code",
   "execution_count": 103,
   "id": "6aa9a1cd",
   "metadata": {},
   "outputs": [
    {
     "data": {
      "image/png": "[encoded data removed]",
      "text/plain": [
       "<Figure size 432x288 with 1 Axes>"
      ]
     },
     "metadata": {
      "needs_background": "light"
     },
     "output_type": "display_data"
    }
   ],
   "source": [
    "sns.barplot(data=df_schools, x='number_of_classes', y='posttest', estimator=np.mean);"
   ]
  },
  {
   "cell_type": "code",
   "execution_count": 105,
   "id": "1dd0c498",
   "metadata": {},
   "outputs": [
    {
     "data": {
      "image/png": "[encoded data removed]",
      "text/plain": [
       "<Figure size 432x288 with 1 Axes>"
      ]
     },
     "metadata": {
      "needs_background": "light"
     },
     "output_type": "display_data"
    }
   ],
   "source": [
    "sns.scatterplot(data=df_schools, x='number_of_students', y='posttest');"
   ]
  },
  {
   "cell_type": "code",
   "execution_count": null,
   "id": "c5d6da1b",
   "metadata": {},
   "outputs": [],
   "source": []
  }
 ],
 "metadata": {
  "kernelspec": {
   "display_name": "Python 3 (ipykernel)",
   "language": "python",
   "name": "python3"
  },
  "language_info": {
   "codemirror_mode": {
    "name": "ipython",
    "version": 3
   },
   "file_extension": ".py",
   "mimetype": "text/x-python",
   "name": "python",
   "nbconvert_exporter": "python",
   "pygments_lexer": "ipython3",
   "version": "3.7.1"
  }
 },
 "nbformat": 4,
 "nbformat_minor": 5
}
