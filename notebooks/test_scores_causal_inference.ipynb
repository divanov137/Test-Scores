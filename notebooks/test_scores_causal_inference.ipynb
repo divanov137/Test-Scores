{
 "cells": [
  {
   "cell_type": "code",
   "execution_count": 1,
   "metadata": {},
   "outputs": [],
   "source": [
    "import numpy as np\n",
    "import pandas as pd\n",
    "import matplotlib.pyplot as plt\n",
    "import seaborn as sns"
   ]
  },
  {
   "cell_type": "code",
   "execution_count": 2,
   "metadata": {},
   "outputs": [],
   "source": [
    "df = pd.read_csv('../datasets/test_scores.csv')"
   ]
  },
  {
   "cell_type": "code",
   "execution_count": 3,
   "metadata": {},
   "outputs": [
    {
     "data": {
      "text/html": [
       "<div>\n",
       "<style scoped>\n",
       "    .dataframe tbody tr th:only-of-type {\n",
       "        vertical-align: middle;\n",
       "    }\n",
       "\n",
       "    .dataframe tbody tr th {\n",
       "        vertical-align: top;\n",
       "    }\n",
       "\n",
       "    .dataframe thead th {\n",
       "        text-align: right;\n",
       "    }\n",
       "</style>\n",
       "<table border=\"1\" class=\"dataframe\">\n",
       "  <thead>\n",
       "    <tr style=\"text-align: right;\">\n",
       "      <th></th>\n",
       "      <th>school</th>\n",
       "      <th>school_setting</th>\n",
       "      <th>school_type</th>\n",
       "      <th>classroom</th>\n",
       "      <th>teaching_method</th>\n",
       "      <th>n_student</th>\n",
       "      <th>student_id</th>\n",
       "      <th>gender</th>\n",
       "      <th>lunch</th>\n",
       "      <th>pretest</th>\n",
       "      <th>posttest</th>\n",
       "    </tr>\n",
       "  </thead>\n",
       "  <tbody>\n",
       "    <tr>\n",
       "      <th>0</th>\n",
       "      <td>ANKYI</td>\n",
       "      <td>Urban</td>\n",
       "      <td>Non-public</td>\n",
       "      <td>6OL</td>\n",
       "      <td>Standard</td>\n",
       "      <td>20.0</td>\n",
       "      <td>2FHT3</td>\n",
       "      <td>Female</td>\n",
       "      <td>Does not qualify</td>\n",
       "      <td>62.0</td>\n",
       "      <td>72.0</td>\n",
       "    </tr>\n",
       "    <tr>\n",
       "      <th>1</th>\n",
       "      <td>ANKYI</td>\n",
       "      <td>Urban</td>\n",
       "      <td>Non-public</td>\n",
       "      <td>6OL</td>\n",
       "      <td>Standard</td>\n",
       "      <td>20.0</td>\n",
       "      <td>3JIVH</td>\n",
       "      <td>Female</td>\n",
       "      <td>Does not qualify</td>\n",
       "      <td>66.0</td>\n",
       "      <td>79.0</td>\n",
       "    </tr>\n",
       "    <tr>\n",
       "      <th>2</th>\n",
       "      <td>ANKYI</td>\n",
       "      <td>Urban</td>\n",
       "      <td>Non-public</td>\n",
       "      <td>6OL</td>\n",
       "      <td>Standard</td>\n",
       "      <td>20.0</td>\n",
       "      <td>3XOWE</td>\n",
       "      <td>Male</td>\n",
       "      <td>Does not qualify</td>\n",
       "      <td>64.0</td>\n",
       "      <td>76.0</td>\n",
       "    </tr>\n",
       "    <tr>\n",
       "      <th>3</th>\n",
       "      <td>ANKYI</td>\n",
       "      <td>Urban</td>\n",
       "      <td>Non-public</td>\n",
       "      <td>6OL</td>\n",
       "      <td>Standard</td>\n",
       "      <td>20.0</td>\n",
       "      <td>556O0</td>\n",
       "      <td>Female</td>\n",
       "      <td>Does not qualify</td>\n",
       "      <td>61.0</td>\n",
       "      <td>77.0</td>\n",
       "    </tr>\n",
       "    <tr>\n",
       "      <th>4</th>\n",
       "      <td>ANKYI</td>\n",
       "      <td>Urban</td>\n",
       "      <td>Non-public</td>\n",
       "      <td>6OL</td>\n",
       "      <td>Standard</td>\n",
       "      <td>20.0</td>\n",
       "      <td>74LOE</td>\n",
       "      <td>Male</td>\n",
       "      <td>Does not qualify</td>\n",
       "      <td>64.0</td>\n",
       "      <td>76.0</td>\n",
       "    </tr>\n",
       "  </tbody>\n",
       "</table>\n",
       "</div>"
      ],
      "text/plain": [
       "  school school_setting school_type classroom teaching_method  n_student  \\\n",
       "0  ANKYI          Urban  Non-public       6OL        Standard       20.0   \n",
       "1  ANKYI          Urban  Non-public       6OL        Standard       20.0   \n",
       "2  ANKYI          Urban  Non-public       6OL        Standard       20.0   \n",
       "3  ANKYI          Urban  Non-public       6OL        Standard       20.0   \n",
       "4  ANKYI          Urban  Non-public       6OL        Standard       20.0   \n",
       "\n",
       "  student_id  gender             lunch  pretest  posttest  \n",
       "0      2FHT3  Female  Does not qualify     62.0      72.0  \n",
       "1      3JIVH  Female  Does not qualify     66.0      79.0  \n",
       "2      3XOWE    Male  Does not qualify     64.0      76.0  \n",
       "3      556O0  Female  Does not qualify     61.0      77.0  \n",
       "4      74LOE    Male  Does not qualify     64.0      76.0  "
      ]
     },
     "execution_count": 3,
     "metadata": {},
     "output_type": "execute_result"
    }
   ],
   "source": [
    "df.head()"
   ]
  },
  {
   "cell_type": "code",
   "execution_count": 4,
   "metadata": {},
   "outputs": [
    {
     "name": "stdout",
     "output_type": "stream",
     "text": [
      "<class 'pandas.core.frame.DataFrame'>\n",
      "RangeIndex: 2133 entries, 0 to 2132\n",
      "Data columns (total 11 columns):\n",
      "school             2133 non-null object\n",
      "school_setting     2133 non-null object\n",
      "school_type        2133 non-null object\n",
      "classroom          2133 non-null object\n",
      "teaching_method    2133 non-null object\n",
      "n_student          2133 non-null float64\n",
      "student_id         2133 non-null object\n",
      "gender             2133 non-null object\n",
      "lunch              2133 non-null object\n",
      "pretest            2133 non-null float64\n",
      "posttest           2133 non-null float64\n",
      "dtypes: float64(3), object(8)\n",
      "memory usage: 183.4+ KB\n"
     ]
    }
   ],
   "source": [
    "df.info()"
   ]
  },
  {
   "cell_type": "code",
   "execution_count": 5,
   "metadata": {},
   "outputs": [
    {
     "data": {
      "text/plain": [
       "Index(['school', 'school_setting', 'school_type', 'classroom',\n",
       "       'teaching_method', 'n_student', 'student_id', 'gender', 'lunch',\n",
       "       'pretest', 'posttest'],\n",
       "      dtype='object')"
      ]
     },
     "execution_count": 5,
     "metadata": {},
     "output_type": "execute_result"
    }
   ],
   "source": [
    "df.columns"
   ]
  },
  {
   "cell_type": "markdown",
   "metadata": {},
   "source": [
    "## Testing the causal model by looking at correlations between the features"
   ]
  },
  {
   "cell_type": "code",
   "execution_count": 7,
   "metadata": {},
   "outputs": [],
   "source": [
    "from scipy.stats import chi2_contingency"
   ]
  },
  {
   "cell_type": "markdown",
   "metadata": {},
   "source": [
    "We set up a series of $\\chi^2$-tests to determine the correlations between the categorical features. We choose the significant level to be $\\alpha = 0.01$. The null hypothesis is that the two features are not associated. If the p-value is very small: $p < \\alpha$, then the null hypotehsis is rejected and we conclude that the variables are correlated."
   ]
  },
  {
   "cell_type": "code",
   "execution_count": 22,
   "metadata": {},
   "outputs": [],
   "source": [
    "def chi2_test(data, feature1, feature2):\n",
    "    info = chi2_contingency(pd.crosstab(data[feature1], data[feature2]))\n",
    "    print(\n",
    "    \"\"\"chi2 statistic: {0} \\n \n",
    "    p-value: {1} \\n \n",
    "    number of dof: {2} \\n \n",
    "    expected frequencies under the null hypothesis of no association: {3}\"\"\".format(str(info[0]), str(info[1]),\n",
    "                                                                                    str(info[2]), str(info[3])))"
   ]
  },
  {
   "cell_type": "markdown",
   "metadata": {},
   "source": [
    "#### 1. School setting and teaching method"
   ]
  },
  {
   "cell_type": "code",
   "execution_count": 11,
   "metadata": {},
   "outputs": [
    {
     "data": {
      "image/png": "[encoded data removed]",
      "text/plain": [
       "<Figure size 432x288 with 1 Axes>"
      ]
     },
     "metadata": {
      "needs_background": "light"
     },
     "output_type": "display_data"
    }
   ],
   "source": [
    "sns.countplot(data=df, x='school_setting');"
   ]
  },
  {
   "cell_type": "code",
   "execution_count": 12,
   "metadata": {},
   "outputs": [
    {
     "data": {
      "image/png": "[encoded data removed]",
      "text/plain": [
       "<Figure size 432x288 with 1 Axes>"
      ]
     },
     "metadata": {
      "needs_background": "light"
     },
     "output_type": "display_data"
    }
   ],
   "source": [
    "sns.countplot(data=df, x='teaching_method');"
   ]
  },
  {
   "cell_type": "code",
   "execution_count": 13,
   "metadata": {},
   "outputs": [
    {
     "data": {
      "image/png": "[encoded data removed]",
      "text/plain": [
       "<Figure size 432x288 with 1 Axes>"
      ]
     },
     "metadata": {
      "needs_background": "light"
     },
     "output_type": "display_data"
    }
   ],
   "source": [
    "sns.countplot(data=df, x='school_setting', hue='teaching_method');"
   ]
  },
  {
   "cell_type": "markdown",
   "metadata": {},
   "source": [
    "The fraction of students taught by the experimental method is smaller in urban than in suburban or rural settings. This can also be seen in the following contingency table."
   ]
  },
  {
   "cell_type": "code",
   "execution_count": 8,
   "metadata": {},
   "outputs": [
    {
     "data": {
      "text/html": [
       "<div>\n",
       "<style scoped>\n",
       "    .dataframe tbody tr th:only-of-type {\n",
       "        vertical-align: middle;\n",
       "    }\n",
       "\n",
       "    .dataframe tbody tr th {\n",
       "        vertical-align: top;\n",
       "    }\n",
       "\n",
       "    .dataframe thead th {\n",
       "        text-align: right;\n",
       "    }\n",
       "</style>\n",
       "<table border=\"1\" class=\"dataframe\">\n",
       "  <thead>\n",
       "    <tr style=\"text-align: right;\">\n",
       "      <th>school_setting</th>\n",
       "      <th>Rural</th>\n",
       "      <th>Suburban</th>\n",
       "      <th>Urban</th>\n",
       "    </tr>\n",
       "    <tr>\n",
       "      <th>teaching_method</th>\n",
       "      <th></th>\n",
       "      <th></th>\n",
       "      <th></th>\n",
       "    </tr>\n",
       "  </thead>\n",
       "  <tbody>\n",
       "    <tr>\n",
       "      <th>Experimental</th>\n",
       "      <td>201</td>\n",
       "      <td>284</td>\n",
       "      <td>275</td>\n",
       "    </tr>\n",
       "    <tr>\n",
       "      <th>Standard</th>\n",
       "      <td>309</td>\n",
       "      <td>433</td>\n",
       "      <td>631</td>\n",
       "    </tr>\n",
       "  </tbody>\n",
       "</table>\n",
       "</div>"
      ],
      "text/plain": [
       "school_setting   Rural  Suburban  Urban\n",
       "teaching_method                        \n",
       "Experimental       201       284    275\n",
       "Standard           309       433    631"
      ]
     },
     "execution_count": 8,
     "metadata": {},
     "output_type": "execute_result"
    }
   ],
   "source": [
    "pd.crosstab(df['teaching_method'], df['school_setting'])"
   ]
  },
  {
   "cell_type": "code",
   "execution_count": 10,
   "metadata": {},
   "outputs": [
    {
     "data": {
      "text/plain": [
       "(0.3941176470588235, 0.39609483960948394, 0.30353200883002207)"
      ]
     },
     "execution_count": 10,
     "metadata": {},
     "output_type": "execute_result"
    }
   ],
   "source": [
    "201/(201+309), 284/(284+433), 275/(275+631)"
   ]
  },
  {
   "cell_type": "code",
   "execution_count": 9,
   "metadata": {},
   "outputs": [
    {
     "data": {
      "text/plain": [
       "(19.13030529160426,\n",
       " 7.013050841722543e-05,\n",
       " 2,\n",
       " array([[181.71589311, 255.47116737, 322.81293952],\n",
       "        [328.28410689, 461.52883263, 583.18706048]]))"
      ]
     },
     "execution_count": 9,
     "metadata": {},
     "output_type": "execute_result"
    }
   ],
   "source": [
    "chi2_contingency(pd.crosstab(df['teaching_method'], df['school_setting']))"
   ]
  },
  {
   "cell_type": "markdown",
   "metadata": {},
   "source": [
    "The p-value is small. Therefore, teaching method and school setting are correlated."
   ]
  },
  {
   "cell_type": "markdown",
   "metadata": {},
   "source": [
    "#### 2. School setting and school type"
   ]
  },
  {
   "cell_type": "code",
   "execution_count": 24,
   "metadata": {},
   "outputs": [
    {
     "data": {
      "image/png": "[encoded data removed]",
      "text/plain": [
       "<Figure size 432x288 with 1 Axes>"
      ]
     },
     "metadata": {
      "needs_background": "light"
     },
     "output_type": "display_data"
    }
   ],
   "source": [
    "sns.countplot(data=df, x='school_setting');"
   ]
  },
  {
   "cell_type": "code",
   "execution_count": 25,
   "metadata": {},
   "outputs": [
    {
     "data": {
      "image/png": "[encoded data removed]",
      "text/plain": [
       "<Figure size 432x288 with 1 Axes>"
      ]
     },
     "metadata": {
      "needs_background": "light"
     },
     "output_type": "display_data"
    }
   ],
   "source": [
    "sns.countplot(data=df, x='school_type');"
   ]
  },
  {
   "cell_type": "code",
   "execution_count": 26,
   "metadata": {},
   "outputs": [
    {
     "data": {
      "image/png": "[encoded data removed]",
      "text/plain": [
       "<Figure size 432x288 with 1 Axes>"
      ]
     },
     "metadata": {
      "needs_background": "light"
     },
     "output_type": "display_data"
    }
   ],
   "source": [
    "sns.countplot(data=df, x='school_setting', hue='school_type');"
   ]
  },
  {
   "cell_type": "code",
   "execution_count": 28,
   "metadata": {},
   "outputs": [
    {
     "data": {
      "text/html": [
       "<div>\n",
       "<style scoped>\n",
       "    .dataframe tbody tr th:only-of-type {\n",
       "        vertical-align: middle;\n",
       "    }\n",
       "\n",
       "    .dataframe tbody tr th {\n",
       "        vertical-align: top;\n",
       "    }\n",
       "\n",
       "    .dataframe thead th {\n",
       "        text-align: right;\n",
       "    }\n",
       "</style>\n",
       "<table border=\"1\" class=\"dataframe\">\n",
       "  <thead>\n",
       "    <tr style=\"text-align: right;\">\n",
       "      <th>school_setting</th>\n",
       "      <th>Rural</th>\n",
       "      <th>Suburban</th>\n",
       "      <th>Urban</th>\n",
       "    </tr>\n",
       "    <tr>\n",
       "      <th>school_type</th>\n",
       "      <th></th>\n",
       "      <th></th>\n",
       "      <th></th>\n",
       "    </tr>\n",
       "  </thead>\n",
       "  <tbody>\n",
       "    <tr>\n",
       "      <th>Non-public</th>\n",
       "      <td>97</td>\n",
       "      <td>193</td>\n",
       "      <td>261</td>\n",
       "    </tr>\n",
       "    <tr>\n",
       "      <th>Public</th>\n",
       "      <td>413</td>\n",
       "      <td>524</td>\n",
       "      <td>645</td>\n",
       "    </tr>\n",
       "  </tbody>\n",
       "</table>\n",
       "</div>"
      ],
      "text/plain": [
       "school_setting  Rural  Suburban  Urban\n",
       "school_type                           \n",
       "Non-public         97       193    261\n",
       "Public            413       524    645"
      ]
     },
     "execution_count": 28,
     "metadata": {},
     "output_type": "execute_result"
    }
   ],
   "source": [
    "pd.crosstab(df['school_type'], df['school_setting'])"
   ]
  },
  {
   "cell_type": "code",
   "execution_count": 29,
   "metadata": {},
   "outputs": [
    {
     "data": {
      "text/plain": [
       "(0.19019607843137254, 0.2691771269177127, 0.28807947019867547)"
      ]
     },
     "execution_count": 29,
     "metadata": {},
     "output_type": "execute_result"
    }
   ],
   "source": [
    "97/(97+413), 193/(193+524), 261/(261+645)"
   ]
  },
  {
   "cell_type": "code",
   "execution_count": 30,
   "metadata": {},
   "outputs": [
    {
     "data": {
      "text/plain": [
       "(16.982680484913356,\n",
       " 0.00020523800701307613,\n",
       " 2,\n",
       " array([[131.7440225 , 185.21659634, 234.03938115],\n",
       "        [378.2559775 , 531.78340366, 671.96061885]]))"
      ]
     },
     "execution_count": 30,
     "metadata": {},
     "output_type": "execute_result"
    }
   ],
   "source": [
    "chi2_contingency(pd.crosstab(df['school_type'], df['school_setting']))"
   ]
  },
  {
   "cell_type": "markdown",
   "metadata": {},
   "source": [
    "School type and school setting are associated."
   ]
  },
  {
   "cell_type": "markdown",
   "metadata": {},
   "source": [
    "#### 3. School type and teaching method"
   ]
  },
  {
   "cell_type": "code",
   "execution_count": 31,
   "metadata": {},
   "outputs": [
    {
     "data": {
      "image/png": "[encoded data removed]",
      "text/plain": [
       "<Figure size 432x288 with 1 Axes>"
      ]
     },
     "metadata": {
      "needs_background": "light"
     },
     "output_type": "display_data"
    }
   ],
   "source": [
    "sns.countplot(data=df, x='school_type', hue='teaching_method');"
   ]
  },
  {
   "cell_type": "code",
   "execution_count": 32,
   "metadata": {},
   "outputs": [
    {
     "data": {
      "text/plain": [
       "(49.589298992956024,\n",
       " 1.895447485787072e-12,\n",
       " 1,\n",
       " array([[ 196.32442569,  354.67557431],\n",
       "        [ 563.67557431, 1018.32442569]]))"
      ]
     },
     "execution_count": 32,
     "metadata": {},
     "output_type": "execute_result"
    }
   ],
   "source": [
    "chi2_contingency(pd.crosstab(df['school_type'], df['teaching_method']))"
   ]
  },
  {
   "cell_type": "code",
   "execution_count": 33,
   "metadata": {},
   "outputs": [
    {
     "data": {
      "image/png": "[encoded data removed]",
      "text/plain": [
       "<Figure size 432x288 with 1 Axes>"
      ]
     },
     "metadata": {
      "needs_background": "light"
     },
     "output_type": "display_data"
    }
   ],
   "source": [
    "sns.countplot(data=df[df['school_setting']=='Urban'], x='school_type', hue='teaching_method');"
   ]
  },
  {
   "cell_type": "code",
   "execution_count": 38,
   "metadata": {},
   "outputs": [
    {
     "data": {
      "image/png": "[encoded data removed]",
      "text/plain": [
       "<Figure size 432x288 with 1 Axes>"
      ]
     },
     "metadata": {
      "needs_background": "light"
     },
     "output_type": "display_data"
    }
   ],
   "source": [
    "sns.countplot(data=df[df['school_setting']=='Suburban'], x='school_type', hue='teaching_method');"
   ]
  },
  {
   "cell_type": "code",
   "execution_count": 39,
   "metadata": {},
   "outputs": [
    {
     "data": {
      "image/png": "[encoded data removed]",
      "text/plain": [
       "<Figure size 432x288 with 1 Axes>"
      ]
     },
     "metadata": {
      "needs_background": "light"
     },
     "output_type": "display_data"
    }
   ],
   "source": [
    "sns.countplot(data=df[df['school_setting']=='Rural'], x='school_type', hue='teaching_method');"
   ]
  },
  {
   "cell_type": "code",
   "execution_count": 35,
   "metadata": {},
   "outputs": [
    {
     "data": {
      "text/plain": [
       "0.716238764900083"
      ]
     },
     "execution_count": 35,
     "metadata": {},
     "output_type": "execute_result"
    }
   ],
   "source": [
    "chi2_contingency(pd.crosstab(df[df['school_setting']=='Urban']['school_type'], \n",
    "                             df[df['school_setting']=='Urban']['teaching_method']))[1]"
   ]
  },
  {
   "cell_type": "code",
   "execution_count": 36,
   "metadata": {},
   "outputs": [
    {
     "data": {
      "text/plain": [
       "1.6088295581716766e-05"
      ]
     },
     "execution_count": 36,
     "metadata": {},
     "output_type": "execute_result"
    }
   ],
   "source": [
    "chi2_contingency(pd.crosstab(df[df['school_setting']=='Suburban']['school_type'], \n",
    "                             df[df['school_setting']=='Suburban']['teaching_method']))[1]"
   ]
  },
  {
   "cell_type": "code",
   "execution_count": 37,
   "metadata": {},
   "outputs": [
    {
     "data": {
      "text/plain": [
       "1.6694878514590291e-22"
      ]
     },
     "execution_count": 37,
     "metadata": {},
     "output_type": "execute_result"
    }
   ],
   "source": [
    "chi2_contingency(pd.crosstab(df[df['school_setting']=='Rural']['school_type'], \n",
    "                             df[df['school_setting']=='Rural']['teaching_method']))[1]"
   ]
  },
  {
   "cell_type": "markdown",
   "metadata": {},
   "source": [
    "School type and teaching method are correlated and they remain correlated even when we condition on school setting."
   ]
  },
  {
   "cell_type": "markdown",
   "metadata": {},
   "source": [
    "#### 4. School setting and number"
   ]
  },
  {
   "cell_type": "code",
   "execution_count": 42,
   "metadata": {
    "scrolled": true
   },
   "outputs": [
    {
     "data": {
      "image/png": "[encoded data removed]",
      "text/plain": [
       "<Figure size 432x288 with 1 Axes>"
      ]
     },
     "metadata": {
      "needs_background": "light"
     },
     "output_type": "display_data"
    }
   ],
   "source": [
    "sns.violinplot(data=df, x='school_setting', y='n_student');"
   ]
  },
  {
   "cell_type": "code",
   "execution_count": 44,
   "metadata": {
    "scrolled": true
   },
   "outputs": [
    {
     "data": {
      "text/html": [
       "<div>\n",
       "<style scoped>\n",
       "    .dataframe tbody tr th:only-of-type {\n",
       "        vertical-align: middle;\n",
       "    }\n",
       "\n",
       "    .dataframe tbody tr th {\n",
       "        vertical-align: top;\n",
       "    }\n",
       "\n",
       "    .dataframe thead th {\n",
       "        text-align: right;\n",
       "    }\n",
       "</style>\n",
       "<table border=\"1\" class=\"dataframe\">\n",
       "  <thead>\n",
       "    <tr style=\"text-align: right;\">\n",
       "      <th>n_student</th>\n",
       "      <th>14.0</th>\n",
       "      <th>15.0</th>\n",
       "      <th>16.0</th>\n",
       "      <th>17.0</th>\n",
       "      <th>18.0</th>\n",
       "      <th>19.0</th>\n",
       "      <th>20.0</th>\n",
       "      <th>21.0</th>\n",
       "      <th>22.0</th>\n",
       "      <th>23.0</th>\n",
       "      <th>24.0</th>\n",
       "      <th>25.0</th>\n",
       "      <th>26.0</th>\n",
       "      <th>27.0</th>\n",
       "      <th>28.0</th>\n",
       "      <th>29.0</th>\n",
       "      <th>30.0</th>\n",
       "      <th>31.0</th>\n",
       "    </tr>\n",
       "    <tr>\n",
       "      <th>school_setting</th>\n",
       "      <th></th>\n",
       "      <th></th>\n",
       "      <th></th>\n",
       "      <th></th>\n",
       "      <th></th>\n",
       "      <th></th>\n",
       "      <th></th>\n",
       "      <th></th>\n",
       "      <th></th>\n",
       "      <th></th>\n",
       "      <th></th>\n",
       "      <th></th>\n",
       "      <th></th>\n",
       "      <th></th>\n",
       "      <th></th>\n",
       "      <th></th>\n",
       "      <th></th>\n",
       "      <th></th>\n",
       "    </tr>\n",
       "  </thead>\n",
       "  <tbody>\n",
       "    <tr>\n",
       "      <th>Rural</th>\n",
       "      <td>28</td>\n",
       "      <td>15</td>\n",
       "      <td>16</td>\n",
       "      <td>34</td>\n",
       "      <td>36</td>\n",
       "      <td>76</td>\n",
       "      <td>60</td>\n",
       "      <td>42</td>\n",
       "      <td>110</td>\n",
       "      <td>69</td>\n",
       "      <td>24</td>\n",
       "      <td>0</td>\n",
       "      <td>0</td>\n",
       "      <td>0</td>\n",
       "      <td>0</td>\n",
       "      <td>0</td>\n",
       "      <td>0</td>\n",
       "      <td>0</td>\n",
       "    </tr>\n",
       "    <tr>\n",
       "      <th>Suburban</th>\n",
       "      <td>0</td>\n",
       "      <td>30</td>\n",
       "      <td>48</td>\n",
       "      <td>17</td>\n",
       "      <td>36</td>\n",
       "      <td>38</td>\n",
       "      <td>80</td>\n",
       "      <td>126</td>\n",
       "      <td>88</td>\n",
       "      <td>69</td>\n",
       "      <td>24</td>\n",
       "      <td>25</td>\n",
       "      <td>0</td>\n",
       "      <td>108</td>\n",
       "      <td>28</td>\n",
       "      <td>0</td>\n",
       "      <td>0</td>\n",
       "      <td>0</td>\n",
       "    </tr>\n",
       "    <tr>\n",
       "      <th>Urban</th>\n",
       "      <td>0</td>\n",
       "      <td>0</td>\n",
       "      <td>0</td>\n",
       "      <td>85</td>\n",
       "      <td>0</td>\n",
       "      <td>19</td>\n",
       "      <td>20</td>\n",
       "      <td>63</td>\n",
       "      <td>66</td>\n",
       "      <td>0</td>\n",
       "      <td>96</td>\n",
       "      <td>100</td>\n",
       "      <td>26</td>\n",
       "      <td>81</td>\n",
       "      <td>140</td>\n",
       "      <td>29</td>\n",
       "      <td>150</td>\n",
       "      <td>31</td>\n",
       "    </tr>\n",
       "  </tbody>\n",
       "</table>\n",
       "</div>"
      ],
      "text/plain": [
       "n_student       14.0  15.0  16.0  17.0  18.0  19.0  20.0  21.0  22.0  23.0  \\\n",
       "school_setting                                                               \n",
       "Rural             28    15    16    34    36    76    60    42   110    69   \n",
       "Suburban           0    30    48    17    36    38    80   126    88    69   \n",
       "Urban              0     0     0    85     0    19    20    63    66     0   \n",
       "\n",
       "n_student       24.0  25.0  26.0  27.0  28.0  29.0  30.0  31.0  \n",
       "school_setting                                                  \n",
       "Rural             24     0     0     0     0     0     0     0  \n",
       "Suburban          24    25     0   108    28     0     0     0  \n",
       "Urban             96   100    26    81   140    29   150    31  "
      ]
     },
     "execution_count": 44,
     "metadata": {},
     "output_type": "execute_result"
    }
   ],
   "source": [
    "pd.crosstab(df['school_setting'], df['n_student'])"
   ]
  },
  {
   "cell_type": "markdown",
   "metadata": {},
   "source": [
    "#### 5. School-type and number"
   ]
  },
  {
   "cell_type": "code",
   "execution_count": 53,
   "metadata": {
    "scrolled": true
   },
   "outputs": [
    {
     "data": {
      "image/png": "[encoded data removed]",
      "text/plain": [
       "<Figure size 432x288 with 1 Axes>"
      ]
     },
     "metadata": {
      "needs_background": "light"
     },
     "output_type": "display_data"
    }
   ],
   "source": [
    "sns.violinplot(data=df, x='school_type', y='n_student');"
   ]
  },
  {
   "cell_type": "code",
   "execution_count": 54,
   "metadata": {
    "scrolled": true
   },
   "outputs": [
    {
     "data": {
      "text/html": [
       "<div>\n",
       "<style scoped>\n",
       "    .dataframe tbody tr th:only-of-type {\n",
       "        vertical-align: middle;\n",
       "    }\n",
       "\n",
       "    .dataframe tbody tr th {\n",
       "        vertical-align: top;\n",
       "    }\n",
       "\n",
       "    .dataframe thead th {\n",
       "        text-align: right;\n",
       "    }\n",
       "</style>\n",
       "<table border=\"1\" class=\"dataframe\">\n",
       "  <thead>\n",
       "    <tr style=\"text-align: right;\">\n",
       "      <th>n_student</th>\n",
       "      <th>14.0</th>\n",
       "      <th>15.0</th>\n",
       "      <th>16.0</th>\n",
       "      <th>17.0</th>\n",
       "      <th>18.0</th>\n",
       "      <th>19.0</th>\n",
       "      <th>20.0</th>\n",
       "      <th>21.0</th>\n",
       "      <th>22.0</th>\n",
       "      <th>23.0</th>\n",
       "      <th>24.0</th>\n",
       "      <th>25.0</th>\n",
       "      <th>26.0</th>\n",
       "      <th>27.0</th>\n",
       "      <th>28.0</th>\n",
       "      <th>29.0</th>\n",
       "      <th>30.0</th>\n",
       "      <th>31.0</th>\n",
       "    </tr>\n",
       "    <tr>\n",
       "      <th>school_type</th>\n",
       "      <th></th>\n",
       "      <th></th>\n",
       "      <th></th>\n",
       "      <th></th>\n",
       "      <th></th>\n",
       "      <th></th>\n",
       "      <th></th>\n",
       "      <th></th>\n",
       "      <th></th>\n",
       "      <th></th>\n",
       "      <th></th>\n",
       "      <th></th>\n",
       "      <th></th>\n",
       "      <th></th>\n",
       "      <th></th>\n",
       "      <th></th>\n",
       "      <th></th>\n",
       "      <th></th>\n",
       "    </tr>\n",
       "  </thead>\n",
       "  <tbody>\n",
       "    <tr>\n",
       "      <th>Non-public</th>\n",
       "      <td>28</td>\n",
       "      <td>45</td>\n",
       "      <td>64</td>\n",
       "      <td>102</td>\n",
       "      <td>36</td>\n",
       "      <td>38</td>\n",
       "      <td>80</td>\n",
       "      <td>84</td>\n",
       "      <td>22</td>\n",
       "      <td>0</td>\n",
       "      <td>0</td>\n",
       "      <td>25</td>\n",
       "      <td>0</td>\n",
       "      <td>27</td>\n",
       "      <td>0</td>\n",
       "      <td>0</td>\n",
       "      <td>0</td>\n",
       "      <td>0</td>\n",
       "    </tr>\n",
       "    <tr>\n",
       "      <th>Public</th>\n",
       "      <td>0</td>\n",
       "      <td>0</td>\n",
       "      <td>0</td>\n",
       "      <td>34</td>\n",
       "      <td>36</td>\n",
       "      <td>95</td>\n",
       "      <td>80</td>\n",
       "      <td>147</td>\n",
       "      <td>242</td>\n",
       "      <td>138</td>\n",
       "      <td>144</td>\n",
       "      <td>100</td>\n",
       "      <td>26</td>\n",
       "      <td>162</td>\n",
       "      <td>168</td>\n",
       "      <td>29</td>\n",
       "      <td>150</td>\n",
       "      <td>31</td>\n",
       "    </tr>\n",
       "  </tbody>\n",
       "</table>\n",
       "</div>"
      ],
      "text/plain": [
       "n_student    14.0  15.0  16.0  17.0  18.0  19.0  20.0  21.0  22.0  23.0  24.0  \\\n",
       "school_type                                                                     \n",
       "Non-public     28    45    64   102    36    38    80    84    22     0     0   \n",
       "Public          0     0     0    34    36    95    80   147   242   138   144   \n",
       "\n",
       "n_student    25.0  26.0  27.0  28.0  29.0  30.0  31.0  \n",
       "school_type                                            \n",
       "Non-public     25     0    27     0     0     0     0  \n",
       "Public        100    26   162   168    29   150    31  "
      ]
     },
     "execution_count": 54,
     "metadata": {},
     "output_type": "execute_result"
    }
   ],
   "source": [
    "pd.crosstab(df['school_type'], df['n_student'])"
   ]
  },
  {
   "cell_type": "markdown",
   "metadata": {},
   "source": [
    "#### 6. Number and teaching method"
   ]
  },
  {
   "cell_type": "code",
   "execution_count": 55,
   "metadata": {},
   "outputs": [
    {
     "data": {
      "image/png": "[encoded data removed]",
      "text/plain": [
       "<Figure size 432x288 with 1 Axes>"
      ]
     },
     "metadata": {
      "needs_background": "light"
     },
     "output_type": "display_data"
    }
   ],
   "source": [
    "sns.violinplot(data=df, x='teaching_method', y='n_student');"
   ]
  },
  {
   "cell_type": "code",
   "execution_count": 67,
   "metadata": {},
   "outputs": [
    {
     "data": {
      "image/png": "[encoded data removed]",
      "text/plain": [
       "<Figure size 432x288 with 1 Axes>"
      ]
     },
     "metadata": {
      "needs_background": "light"
     },
     "output_type": "display_data"
    }
   ],
   "source": [
    "sns.violinplot(data=df[(df['school_type']=='Public')&(df['school_setting']=='Urban')], \n",
    "               x='teaching_method', y='n_student');"
   ]
  },
  {
   "cell_type": "code",
   "execution_count": 56,
   "metadata": {},
   "outputs": [
    {
     "data": {
      "text/html": [
       "<div>\n",
       "<style scoped>\n",
       "    .dataframe tbody tr th:only-of-type {\n",
       "        vertical-align: middle;\n",
       "    }\n",
       "\n",
       "    .dataframe tbody tr th {\n",
       "        vertical-align: top;\n",
       "    }\n",
       "\n",
       "    .dataframe thead th {\n",
       "        text-align: right;\n",
       "    }\n",
       "</style>\n",
       "<table border=\"1\" class=\"dataframe\">\n",
       "  <thead>\n",
       "    <tr style=\"text-align: right;\">\n",
       "      <th>n_student</th>\n",
       "      <th>14.0</th>\n",
       "      <th>15.0</th>\n",
       "      <th>16.0</th>\n",
       "      <th>17.0</th>\n",
       "      <th>18.0</th>\n",
       "      <th>19.0</th>\n",
       "      <th>20.0</th>\n",
       "      <th>21.0</th>\n",
       "      <th>22.0</th>\n",
       "      <th>23.0</th>\n",
       "      <th>24.0</th>\n",
       "      <th>25.0</th>\n",
       "      <th>26.0</th>\n",
       "      <th>27.0</th>\n",
       "      <th>28.0</th>\n",
       "      <th>29.0</th>\n",
       "      <th>30.0</th>\n",
       "      <th>31.0</th>\n",
       "    </tr>\n",
       "    <tr>\n",
       "      <th>teaching_method</th>\n",
       "      <th></th>\n",
       "      <th></th>\n",
       "      <th></th>\n",
       "      <th></th>\n",
       "      <th></th>\n",
       "      <th></th>\n",
       "      <th></th>\n",
       "      <th></th>\n",
       "      <th></th>\n",
       "      <th></th>\n",
       "      <th></th>\n",
       "      <th></th>\n",
       "      <th></th>\n",
       "      <th></th>\n",
       "      <th></th>\n",
       "      <th></th>\n",
       "      <th></th>\n",
       "      <th></th>\n",
       "    </tr>\n",
       "  </thead>\n",
       "  <tbody>\n",
       "    <tr>\n",
       "      <th>Experimental</th>\n",
       "      <td>28</td>\n",
       "      <td>30</td>\n",
       "      <td>32</td>\n",
       "      <td>85</td>\n",
       "      <td>54</td>\n",
       "      <td>38</td>\n",
       "      <td>60</td>\n",
       "      <td>21</td>\n",
       "      <td>44</td>\n",
       "      <td>69</td>\n",
       "      <td>48</td>\n",
       "      <td>25</td>\n",
       "      <td>26</td>\n",
       "      <td>54</td>\n",
       "      <td>56</td>\n",
       "      <td>0</td>\n",
       "      <td>90</td>\n",
       "      <td>0</td>\n",
       "    </tr>\n",
       "    <tr>\n",
       "      <th>Standard</th>\n",
       "      <td>0</td>\n",
       "      <td>15</td>\n",
       "      <td>32</td>\n",
       "      <td>51</td>\n",
       "      <td>18</td>\n",
       "      <td>95</td>\n",
       "      <td>100</td>\n",
       "      <td>210</td>\n",
       "      <td>220</td>\n",
       "      <td>69</td>\n",
       "      <td>96</td>\n",
       "      <td>100</td>\n",
       "      <td>0</td>\n",
       "      <td>135</td>\n",
       "      <td>112</td>\n",
       "      <td>29</td>\n",
       "      <td>60</td>\n",
       "      <td>31</td>\n",
       "    </tr>\n",
       "  </tbody>\n",
       "</table>\n",
       "</div>"
      ],
      "text/plain": [
       "n_student        14.0  15.0  16.0  17.0  18.0  19.0  20.0  21.0  22.0  23.0  \\\n",
       "teaching_method                                                               \n",
       "Experimental       28    30    32    85    54    38    60    21    44    69   \n",
       "Standard            0    15    32    51    18    95   100   210   220    69   \n",
       "\n",
       "n_student        24.0  25.0  26.0  27.0  28.0  29.0  30.0  31.0  \n",
       "teaching_method                                                  \n",
       "Experimental       48    25    26    54    56     0    90     0  \n",
       "Standard           96   100     0   135   112    29    60    31  "
      ]
     },
     "execution_count": 56,
     "metadata": {},
     "output_type": "execute_result"
    }
   ],
   "source": [
    "pd.crosstab(df['teaching_method'], df['n_student'])"
   ]
  },
  {
   "cell_type": "code",
   "execution_count": 63,
   "metadata": {},
   "outputs": [
    {
     "data": {
      "text/html": [
       "<div>\n",
       "<style scoped>\n",
       "    .dataframe tbody tr th:only-of-type {\n",
       "        vertical-align: middle;\n",
       "    }\n",
       "\n",
       "    .dataframe tbody tr th {\n",
       "        vertical-align: top;\n",
       "    }\n",
       "\n",
       "    .dataframe thead th {\n",
       "        text-align: right;\n",
       "    }\n",
       "</style>\n",
       "<table border=\"1\" class=\"dataframe\">\n",
       "  <thead>\n",
       "    <tr style=\"text-align: right;\">\n",
       "      <th>n_student</th>\n",
       "      <th>15.0</th>\n",
       "      <th>16.0</th>\n",
       "      <th>17.0</th>\n",
       "      <th>18.0</th>\n",
       "      <th>19.0</th>\n",
       "      <th>20.0</th>\n",
       "      <th>21.0</th>\n",
       "      <th>22.0</th>\n",
       "      <th>23.0</th>\n",
       "      <th>24.0</th>\n",
       "      <th>25.0</th>\n",
       "    </tr>\n",
       "    <tr>\n",
       "      <th>teaching_method</th>\n",
       "      <th></th>\n",
       "      <th></th>\n",
       "      <th></th>\n",
       "      <th></th>\n",
       "      <th></th>\n",
       "      <th></th>\n",
       "      <th></th>\n",
       "      <th></th>\n",
       "      <th></th>\n",
       "      <th></th>\n",
       "      <th></th>\n",
       "    </tr>\n",
       "  </thead>\n",
       "  <tbody>\n",
       "    <tr>\n",
       "      <th>Experimental</th>\n",
       "      <td>30</td>\n",
       "      <td>32</td>\n",
       "      <td>85</td>\n",
       "      <td>54</td>\n",
       "      <td>38</td>\n",
       "      <td>60</td>\n",
       "      <td>21</td>\n",
       "      <td>44</td>\n",
       "      <td>69</td>\n",
       "      <td>48</td>\n",
       "      <td>25</td>\n",
       "    </tr>\n",
       "    <tr>\n",
       "      <th>Standard</th>\n",
       "      <td>15</td>\n",
       "      <td>32</td>\n",
       "      <td>51</td>\n",
       "      <td>18</td>\n",
       "      <td>95</td>\n",
       "      <td>100</td>\n",
       "      <td>210</td>\n",
       "      <td>220</td>\n",
       "      <td>69</td>\n",
       "      <td>96</td>\n",
       "      <td>100</td>\n",
       "    </tr>\n",
       "  </tbody>\n",
       "</table>\n",
       "</div>"
      ],
      "text/plain": [
       "n_student        15.0  16.0  17.0  18.0  19.0  20.0  21.0  22.0  23.0  24.0  \\\n",
       "teaching_method                                                               \n",
       "Experimental       30    32    85    54    38    60    21    44    69    48   \n",
       "Standard           15    32    51    18    95   100   210   220    69    96   \n",
       "\n",
       "n_student        25.0  \n",
       "teaching_method        \n",
       "Experimental       25  \n",
       "Standard          100  "
      ]
     },
     "execution_count": 63,
     "metadata": {},
     "output_type": "execute_result"
    }
   ],
   "source": [
    "pd.crosstab(df[df['n_student'].between(15.0,25.0)]['teaching_method'], \n",
    "            df[df['n_student'].between(15.0,25.0)]['n_student'])"
   ]
  },
  {
   "cell_type": "code",
   "execution_count": 68,
   "metadata": {},
   "outputs": [
    {
     "data": {
      "text/plain": [
       "(5.36079224229646,\n",
       " 0.020594415846629334,\n",
       " 1,\n",
       " array([[ 39.07806691,  33.92193309],\n",
       "        [104.92193309,  91.07806691]]))"
      ]
     },
     "execution_count": 68,
     "metadata": {},
     "output_type": "execute_result"
    }
   ],
   "source": [
    "chi2_contingency(pd.crosstab(df[df['n_student'].between(24.0,25.0)]['teaching_method'], \n",
    "            df[df['n_student'].between(24.0,25.0)]['n_student']))"
   ]
  },
  {
   "cell_type": "code",
   "execution_count": 65,
   "metadata": {},
   "outputs": [
    {
     "data": {
      "text/plain": [
       "(17.991558069010736,\n",
       " 0.00012393181352831554,\n",
       " 2,\n",
       " array([[10.02790698, 21.87906977, 17.09302326],\n",
       "        [33.97209302, 74.12093023, 57.90697674]]))"
      ]
     },
     "execution_count": 65,
     "metadata": {},
     "output_type": "execute_result"
    }
   ],
   "source": [
    "chi2_contingency(pd.crosstab(df[(df['n_student'].between(15.0,25.0))&(df['school_type']=='Public')&(df['school_setting']=='Urban')]['teaching_method'], \n",
    "            df[(df['n_student'].between(15.0,25.0))&(df['school_type']=='Public')&(df['school_setting']=='Urban')]['n_student']))"
   ]
  },
  {
   "cell_type": "code",
   "execution_count": 66,
   "metadata": {},
   "outputs": [
    {
     "data": {
      "text/html": [
       "<div>\n",
       "<style scoped>\n",
       "    .dataframe tbody tr th:only-of-type {\n",
       "        vertical-align: middle;\n",
       "    }\n",
       "\n",
       "    .dataframe tbody tr th {\n",
       "        vertical-align: top;\n",
       "    }\n",
       "\n",
       "    .dataframe thead th {\n",
       "        text-align: right;\n",
       "    }\n",
       "</style>\n",
       "<table border=\"1\" class=\"dataframe\">\n",
       "  <thead>\n",
       "    <tr style=\"text-align: right;\">\n",
       "      <th>n_student</th>\n",
       "      <th>22.0</th>\n",
       "      <th>24.0</th>\n",
       "      <th>25.0</th>\n",
       "    </tr>\n",
       "    <tr>\n",
       "      <th>teaching_method</th>\n",
       "      <th></th>\n",
       "      <th></th>\n",
       "      <th></th>\n",
       "    </tr>\n",
       "  </thead>\n",
       "  <tbody>\n",
       "    <tr>\n",
       "      <th>Experimental</th>\n",
       "      <td>0</td>\n",
       "      <td>24</td>\n",
       "      <td>25</td>\n",
       "    </tr>\n",
       "    <tr>\n",
       "      <th>Standard</th>\n",
       "      <td>44</td>\n",
       "      <td>72</td>\n",
       "      <td>50</td>\n",
       "    </tr>\n",
       "  </tbody>\n",
       "</table>\n",
       "</div>"
      ],
      "text/plain": [
       "n_student        22.0  24.0  25.0\n",
       "teaching_method                  \n",
       "Experimental        0    24    25\n",
       "Standard           44    72    50"
      ]
     },
     "execution_count": 66,
     "metadata": {},
     "output_type": "execute_result"
    }
   ],
   "source": [
    "pd.crosstab(df[(df['n_student'].between(15.0,25.0))&(df['school_type']=='Public')&(df['school_setting']=='Urban')]['teaching_method'], \n",
    "            df[(df['n_student'].between(15.0,25.0))&(df['school_type']=='Public')&(df['school_setting']=='Urban')]['n_student'])"
   ]
  },
  {
   "cell_type": "code",
   "execution_count": 71,
   "metadata": {},
   "outputs": [],
   "source": [
    "df_class = df.groupby('classroom')[['n_student', 'teaching_method', 'school_type', 'school_setting']].first()"
   ]
  },
  {
   "cell_type": "code",
   "execution_count": 72,
   "metadata": {},
   "outputs": [
    {
     "data": {
      "text/html": [
       "<div>\n",
       "<style scoped>\n",
       "    .dataframe tbody tr th:only-of-type {\n",
       "        vertical-align: middle;\n",
       "    }\n",
       "\n",
       "    .dataframe tbody tr th {\n",
       "        vertical-align: top;\n",
       "    }\n",
       "\n",
       "    .dataframe thead th {\n",
       "        text-align: right;\n",
       "    }\n",
       "</style>\n",
       "<table border=\"1\" class=\"dataframe\">\n",
       "  <thead>\n",
       "    <tr style=\"text-align: right;\">\n",
       "      <th></th>\n",
       "      <th>n_student</th>\n",
       "      <th>teaching_method</th>\n",
       "      <th>school_type</th>\n",
       "      <th>school_setting</th>\n",
       "    </tr>\n",
       "    <tr>\n",
       "      <th>classroom</th>\n",
       "      <th></th>\n",
       "      <th></th>\n",
       "      <th></th>\n",
       "      <th></th>\n",
       "    </tr>\n",
       "  </thead>\n",
       "  <tbody>\n",
       "    <tr>\n",
       "      <th>05H</th>\n",
       "      <td>22.0</td>\n",
       "      <td>Standard</td>\n",
       "      <td>Non-public</td>\n",
       "      <td>Urban</td>\n",
       "    </tr>\n",
       "    <tr>\n",
       "      <th>08N</th>\n",
       "      <td>21.0</td>\n",
       "      <td>Standard</td>\n",
       "      <td>Public</td>\n",
       "      <td>Suburban</td>\n",
       "    </tr>\n",
       "    <tr>\n",
       "      <th>0N7</th>\n",
       "      <td>28.0</td>\n",
       "      <td>Experimental</td>\n",
       "      <td>Public</td>\n",
       "      <td>Urban</td>\n",
       "    </tr>\n",
       "    <tr>\n",
       "      <th>18K</th>\n",
       "      <td>31.0</td>\n",
       "      <td>Standard</td>\n",
       "      <td>Public</td>\n",
       "      <td>Urban</td>\n",
       "    </tr>\n",
       "    <tr>\n",
       "      <th>197</th>\n",
       "      <td>14.0</td>\n",
       "      <td>Experimental</td>\n",
       "      <td>Non-public</td>\n",
       "      <td>Rural</td>\n",
       "    </tr>\n",
       "    <tr>\n",
       "      <th>...</th>\n",
       "      <td>...</td>\n",
       "      <td>...</td>\n",
       "      <td>...</td>\n",
       "      <td>...</td>\n",
       "    </tr>\n",
       "    <tr>\n",
       "      <th>YTB</th>\n",
       "      <td>30.0</td>\n",
       "      <td>Experimental</td>\n",
       "      <td>Public</td>\n",
       "      <td>Urban</td>\n",
       "    </tr>\n",
       "    <tr>\n",
       "      <th>YUC</th>\n",
       "      <td>21.0</td>\n",
       "      <td>Standard</td>\n",
       "      <td>Public</td>\n",
       "      <td>Suburban</td>\n",
       "    </tr>\n",
       "    <tr>\n",
       "      <th>ZBH</th>\n",
       "      <td>30.0</td>\n",
       "      <td>Standard</td>\n",
       "      <td>Public</td>\n",
       "      <td>Urban</td>\n",
       "    </tr>\n",
       "    <tr>\n",
       "      <th>ZDT</th>\n",
       "      <td>27.0</td>\n",
       "      <td>Standard</td>\n",
       "      <td>Public</td>\n",
       "      <td>Suburban</td>\n",
       "    </tr>\n",
       "    <tr>\n",
       "      <th>ZNS</th>\n",
       "      <td>21.0</td>\n",
       "      <td>Standard</td>\n",
       "      <td>Non-public</td>\n",
       "      <td>Urban</td>\n",
       "    </tr>\n",
       "  </tbody>\n",
       "</table>\n",
       "<p>97 rows × 4 columns</p>\n",
       "</div>"
      ],
      "text/plain": [
       "           n_student teaching_method school_type school_setting\n",
       "classroom                                                      \n",
       "05H             22.0        Standard  Non-public          Urban\n",
       "08N             21.0        Standard      Public       Suburban\n",
       "0N7             28.0    Experimental      Public          Urban\n",
       "18K             31.0        Standard      Public          Urban\n",
       "197             14.0    Experimental  Non-public          Rural\n",
       "...              ...             ...         ...            ...\n",
       "YTB             30.0    Experimental      Public          Urban\n",
       "YUC             21.0        Standard      Public       Suburban\n",
       "ZBH             30.0        Standard      Public          Urban\n",
       "ZDT             27.0        Standard      Public       Suburban\n",
       "ZNS             21.0        Standard  Non-public          Urban\n",
       "\n",
       "[97 rows x 4 columns]"
      ]
     },
     "execution_count": 72,
     "metadata": {},
     "output_type": "execute_result"
    }
   ],
   "source": [
    "df_class"
   ]
  },
  {
   "cell_type": "code",
   "execution_count": 74,
   "metadata": {},
   "outputs": [
    {
     "data": {
      "image/png": "[encoded data removed]",
      "text/plain": [
       "<Figure size 432x288 with 1 Axes>"
      ]
     },
     "metadata": {
      "needs_background": "light"
     },
     "output_type": "display_data"
    }
   ],
   "source": [
    "sns.swarmplot(data=df_class, x='teaching_method', y='n_student');"
   ]
  },
  {
   "cell_type": "code",
   "execution_count": 75,
   "metadata": {},
   "outputs": [
    {
     "data": {
      "image/png": "[encoded data removed]",
      "text/plain": [
       "<Figure size 432x288 with 1 Axes>"
      ]
     },
     "metadata": {
      "needs_background": "light"
     },
     "output_type": "display_data"
    }
   ],
   "source": [
    "sns.swarmplot(data=df_class[(df_class['school_type']=='Public')&(df_class['school_setting']=='Urban')], \n",
    "              x='teaching_method', y='n_student');"
   ]
  },
  {
   "cell_type": "code",
   "execution_count": 89,
   "metadata": {},
   "outputs": [],
   "source": [
    "def f(df, method, typ, setting):\n",
    "    return df[(df['teaching_method']==method)&(df['school_type']==typ)&(df['school_setting']==setting)]['posttest'].sum() / len(df[(df['teaching_method']==method)&(df['school_type']==typ)&(df['school_setting']==setting)]) * len(df[df['school_type']==typ])/len(df) * len(df[df['school_setting']==setting])/len(df)"
   ]
  },
  {
   "cell_type": "code",
   "execution_count": 90,
   "metadata": {},
   "outputs": [
    {
     "data": {
      "text/plain": [
       "18.390941004898863"
      ]
     },
     "execution_count": 90,
     "metadata": {},
     "output_type": "execute_result"
    }
   ],
   "source": [
    "f(df, 'Experimental', 'Public', 'Urban')"
   ]
  },
  {
   "cell_type": "code",
   "execution_count": 83,
   "metadata": {},
   "outputs": [
    {
     "data": {
      "text/plain": [
       "array(['Standard', 'Experimental'], dtype=object)"
      ]
     },
     "execution_count": 83,
     "metadata": {},
     "output_type": "execute_result"
    }
   ],
   "source": [
    "df['teaching_method'].unique()"
   ]
  },
  {
   "cell_type": "code",
   "execution_count": 80,
   "metadata": {},
   "outputs": [
    {
     "data": {
      "text/plain": [
       "array(['Non-public', 'Public'], dtype=object)"
      ]
     },
     "execution_count": 80,
     "metadata": {},
     "output_type": "execute_result"
    }
   ],
   "source": [
    "df['school_type'].unique()"
   ]
  },
  {
   "cell_type": "code",
   "execution_count": 85,
   "metadata": {},
   "outputs": [
    {
     "data": {
      "text/plain": [
       "array(['Urban', 'Suburban', 'Rural'], dtype=object)"
      ]
     },
     "execution_count": 85,
     "metadata": {},
     "output_type": "execute_result"
    }
   ],
   "source": [
    "df['school_setting'].unique()"
   ]
  },
  {
   "cell_type": "code",
   "execution_count": 91,
   "metadata": {},
   "outputs": [],
   "source": [
    "experimental = 0\n",
    "for i in df['school_type'].unique():\n",
    "    for j in df['school_setting'].unique():\n",
    "        experimental += f(df, 'Experimental', i, j)"
   ]
  },
  {
   "cell_type": "code",
   "execution_count": 92,
   "metadata": {},
   "outputs": [
    {
     "data": {
      "text/plain": [
       "71.70994876831543"
      ]
     },
     "execution_count": 92,
     "metadata": {},
     "output_type": "execute_result"
    }
   ],
   "source": [
    "experimental"
   ]
  },
  {
   "cell_type": "code",
   "execution_count": 93,
   "metadata": {},
   "outputs": [],
   "source": [
    "standard = 0\n",
    "for i in df['school_type'].unique():\n",
    "    for j in df['school_setting'].unique():\n",
    "        standard += f(df, 'Standard', i, j)"
   ]
  },
  {
   "cell_type": "code",
   "execution_count": 94,
   "metadata": {},
   "outputs": [
    {
     "data": {
      "text/plain": [
       "63.96656724118184"
      ]
     },
     "execution_count": 94,
     "metadata": {},
     "output_type": "execute_result"
    }
   ],
   "source": [
    "standard"
   ]
  },
  {
   "cell_type": "code",
   "execution_count": 95,
   "metadata": {},
   "outputs": [
    {
     "data": {
      "text/plain": [
       "12.105357315701596"
      ]
     },
     "execution_count": 95,
     "metadata": {},
     "output_type": "execute_result"
    }
   ],
   "source": [
    "(experimental - standard)/standard * 100"
   ]
  },
  {
   "cell_type": "code",
   "execution_count": 96,
   "metadata": {},
   "outputs": [
    {
     "data": {
      "text/plain": [
       "71.744"
      ]
     },
     "execution_count": 96,
     "metadata": {},
     "output_type": "execute_result"
    }
   ],
   "source": [
    "64.0 + 12.1/100 * 64.0"
   ]
  },
  {
   "cell_type": "code",
   "execution_count": 97,
   "metadata": {},
   "outputs": [
    {
     "data": {
      "text/plain": [
       "67.10220346929208"
      ]
     },
     "execution_count": 97,
     "metadata": {},
     "output_type": "execute_result"
    }
   ],
   "source": [
    "df['posttest'].mean()"
   ]
  },
  {
   "cell_type": "markdown",
   "metadata": {},
   "source": [
    "The current average test-score is $67.1$. If everyone were forced to have the standard teaching method, the average test-score would be $64.0$. If everyone were forced to have the experimental teaching method, the average test-score would be $71.7$. This is a $12.1\\%$ increase compared to the standard method. Therefore, we would recommend the implementation of the experimental teaching method."
   ]
  },
  {
   "cell_type": "code",
   "execution_count": 99,
   "metadata": {},
   "outputs": [
    {
     "data": {
      "text/plain": [
       "22.0"
      ]
     },
     "execution_count": 99,
     "metadata": {},
     "output_type": "execute_result"
    }
   ],
   "source": [
    "df['n_student'].median()"
   ]
  },
  {
   "cell_type": "code",
   "execution_count": null,
   "metadata": {},
   "outputs": [],
   "source": []
  }
 ],
 "metadata": {
  "kernelspec": {
   "display_name": "Python 3",
   "language": "python",
   "name": "python3"
  },
  "language_info": {
   "codemirror_mode": {
    "name": "ipython",
    "version": 3
   },
   "file_extension": ".py",
   "mimetype": "text/x-python",
   "name": "python",
   "nbconvert_exporter": "python",
   "pygments_lexer": "ipython3",
   "version": "3.7.1"
  }
 },
 "nbformat": 4,
 "nbformat_minor": 2
}
